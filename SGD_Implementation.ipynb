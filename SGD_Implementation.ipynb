{
 "cells": [
  {
   "cell_type": "markdown",
   "metadata": {},
   "source": [
    "<h2>Stochastic Gradient Descent Implementation</h2>"
   ]
  },
  {
   "cell_type": "code",
   "execution_count": 1,
   "metadata": {},
   "outputs": [],
   "source": [
    "%matplotlib inline\n",
    "import warnings\n",
    "warnings.filterwarnings(\"ignore\")\n",
    "import numpy as np;\n",
    "import pandas as pd\n",
    "import matplotlib.pyplot as plt\n",
    "from sklearn.datasets import load_boston\n",
    "from sklearn import preprocessing\n",
    "from sklearn.metrics import mean_squared_error as MSE\n",
    "#getting boston house price data from sklearn\n",
    "boston = load_boston()"
   ]
  },
  {
   "cell_type": "code",
   "execution_count": 2,
   "metadata": {},
   "outputs": [
    {
     "name": "stdout",
     "output_type": "stream",
     "text": [
      "<class 'numpy.ndarray'>\n",
      "Shape of feature matrix:  (506, 13)\n",
      "      CRIM    ZN  INDUS  CHAS    NOX     RM   AGE     DIS  RAD    TAX  \\\n",
      "0  0.00632  18.0   2.31   0.0  0.538  6.575  65.2  4.0900  1.0  296.0   \n",
      "1  0.02731   0.0   7.07   0.0  0.469  6.421  78.9  4.9671  2.0  242.0   \n",
      "2  0.02729   0.0   7.07   0.0  0.469  7.185  61.1  4.9671  2.0  242.0   \n",
      "3  0.03237   0.0   2.18   0.0  0.458  6.998  45.8  6.0622  3.0  222.0   \n",
      "4  0.06905   0.0   2.18   0.0  0.458  7.147  54.2  6.0622  3.0  222.0   \n",
      "\n",
      "   PTRATIO       B  LSTAT  \n",
      "0     15.3  396.90   4.98  \n",
      "1     17.8  396.90   9.14  \n",
      "2     17.8  392.83   4.03  \n",
      "3     18.7  394.63   2.94  \n",
      "4     18.7  396.90   5.33  \n",
      "****************************************************************************************************\n",
      "Shape of output matrix (506, 1)\n"
     ]
    }
   ],
   "source": [
    "#finding no of datapoints in boston data\n",
    "print(type(boston['data']))\n",
    "X = pd.DataFrame(data=boston['data'], columns=boston['feature_names']);\n",
    "print(\"Shape of feature matrix: \", X.shape)\n",
    "print(X.head(5))\n",
    "\n",
    "print('*'*100)\n",
    "\n",
    "y = pd.DataFrame(np.array(boston['target']))\n",
    "print(\"Shape of output matrix\", y.shape)\n"
   ]
  },
  {
   "cell_type": "code",
   "execution_count": 3,
   "metadata": {},
   "outputs": [
    {
     "name": "stdout",
     "output_type": "stream",
     "text": [
      "features that have skewness more than 0.5  Index(['CRIM', 'ZN', 'CHAS', 'NOX', 'AGE', 'DIS', 'RAD', 'TAX', 'PTRATIO', 'B',\n",
      "       'LSTAT'],\n",
      "      dtype='object')\n"
     ]
    }
   ],
   "source": [
    "# Performing Log transform of the skewed numerical features to lessen impact of outliers\n",
    "\n",
    "from scipy.stats import skew\n",
    "\n",
    "#fetching skewness of each feature using skew function present in scipy.stats\n",
    "skewness = X.apply(lambda x: skew(x))\n",
    "\n",
    "#considering only those features as skewed whose absolute skewness is greater than 0.5\n",
    "skewness = skewness[abs(skewness) > 0.5]\n",
    "\n",
    "#retrieving skewed features\n",
    "skewed_features = skewness.index\n",
    "print('features that have skewness more than 0.5 ', skewed_features)\n",
    "#performing log on skewed features to make them more normal\n",
    "X[skewed_features] = np.log1p(X[skewed_features])"
   ]
  },
  {
   "cell_type": "code",
   "execution_count": 4,
   "metadata": {},
   "outputs": [
    {
     "data": {
      "text/html": [
       "<div>\n",
       "<style scoped>\n",
       "    .dataframe tbody tr th:only-of-type {\n",
       "        vertical-align: middle;\n",
       "    }\n",
       "\n",
       "    .dataframe tbody tr th {\n",
       "        vertical-align: top;\n",
       "    }\n",
       "\n",
       "    .dataframe thead th {\n",
       "        text-align: right;\n",
       "    }\n",
       "</style>\n",
       "<table border=\"1\" class=\"dataframe\">\n",
       "  <thead>\n",
       "    <tr style=\"text-align: right;\">\n",
       "      <th></th>\n",
       "      <th>CRIM</th>\n",
       "      <th>ZN</th>\n",
       "      <th>INDUS</th>\n",
       "      <th>CHAS</th>\n",
       "      <th>NOX</th>\n",
       "      <th>RM</th>\n",
       "      <th>AGE</th>\n",
       "      <th>DIS</th>\n",
       "      <th>RAD</th>\n",
       "      <th>TAX</th>\n",
       "      <th>PTRATIO</th>\n",
       "      <th>B</th>\n",
       "      <th>LSTAT</th>\n",
       "    </tr>\n",
       "  </thead>\n",
       "  <tbody>\n",
       "    <tr>\n",
       "      <th>0</th>\n",
       "      <td>-0.788158</td>\n",
       "      <td>1.229330</td>\n",
       "      <td>-1.287909</td>\n",
       "      <td>-0.272599</td>\n",
       "      <td>-0.111204</td>\n",
       "      <td>0.413672</td>\n",
       "      <td>0.136758</td>\n",
       "      <td>0.357474</td>\n",
       "      <td>-1.812467</td>\n",
       "      <td>-0.609011</td>\n",
       "      <td>-1.445535</td>\n",
       "      <td>0.311086</td>\n",
       "      <td>-1.276118</td>\n",
       "    </tr>\n",
       "    <tr>\n",
       "      <th>1</th>\n",
       "      <td>-0.767903</td>\n",
       "      <td>-0.589091</td>\n",
       "      <td>-0.593381</td>\n",
       "      <td>-0.272599</td>\n",
       "      <td>-0.741058</td>\n",
       "      <td>0.194274</td>\n",
       "      <td>0.456001</td>\n",
       "      <td>0.742438</td>\n",
       "      <td>-1.272635</td>\n",
       "      <td>-1.117107</td>\n",
       "      <td>-0.234324</td>\n",
       "      <td>0.311086</td>\n",
       "      <td>-0.295491</td>\n",
       "    </tr>\n",
       "    <tr>\n",
       "      <th>2</th>\n",
       "      <td>-0.767922</td>\n",
       "      <td>-0.589091</td>\n",
       "      <td>-0.593381</td>\n",
       "      <td>-0.272599</td>\n",
       "      <td>-0.741058</td>\n",
       "      <td>1.282714</td>\n",
       "      <td>0.028245</td>\n",
       "      <td>0.742438</td>\n",
       "      <td>-1.272635</td>\n",
       "      <td>-1.117107</td>\n",
       "      <td>-0.234324</td>\n",
       "      <td>0.296977</td>\n",
       "      <td>-1.597382</td>\n",
       "    </tr>\n",
       "    <tr>\n",
       "      <th>3</th>\n",
       "      <td>-0.763082</td>\n",
       "      <td>-0.589091</td>\n",
       "      <td>-1.306878</td>\n",
       "      <td>-0.272599</td>\n",
       "      <td>-0.844197</td>\n",
       "      <td>1.016303</td>\n",
       "      <td>-0.451842</td>\n",
       "      <td>1.150436</td>\n",
       "      <td>-0.889619</td>\n",
       "      <td>-1.334579</td>\n",
       "      <td>0.162604</td>\n",
       "      <td>0.303235</td>\n",
       "      <td>-2.050937</td>\n",
       "    </tr>\n",
       "    <tr>\n",
       "      <th>4</th>\n",
       "      <td>-0.728826</td>\n",
       "      <td>-0.589091</td>\n",
       "      <td>-1.306878</td>\n",
       "      <td>-0.272599</td>\n",
       "      <td>-0.844197</td>\n",
       "      <td>1.228577</td>\n",
       "      <td>-0.171661</td>\n",
       "      <td>1.150436</td>\n",
       "      <td>-0.889619</td>\n",
       "      <td>-1.334579</td>\n",
       "      <td>0.162604</td>\n",
       "      <td>0.311086</td>\n",
       "      <td>-1.170492</td>\n",
       "    </tr>\n",
       "  </tbody>\n",
       "</table>\n",
       "</div>"
      ],
      "text/plain": [
       "       CRIM        ZN     INDUS      CHAS       NOX        RM       AGE  \\\n",
       "0 -0.788158  1.229330 -1.287909 -0.272599 -0.111204  0.413672  0.136758   \n",
       "1 -0.767903 -0.589091 -0.593381 -0.272599 -0.741058  0.194274  0.456001   \n",
       "2 -0.767922 -0.589091 -0.593381 -0.272599 -0.741058  1.282714  0.028245   \n",
       "3 -0.763082 -0.589091 -1.306878 -0.272599 -0.844197  1.016303 -0.451842   \n",
       "4 -0.728826 -0.589091 -1.306878 -0.272599 -0.844197  1.228577 -0.171661   \n",
       "\n",
       "        DIS       RAD       TAX   PTRATIO         B     LSTAT  \n",
       "0  0.357474 -1.812467 -0.609011 -1.445535  0.311086 -1.276118  \n",
       "1  0.742438 -1.272635 -1.117107 -0.234324  0.311086 -0.295491  \n",
       "2  0.742438 -1.272635 -1.117107 -0.234324  0.296977 -1.597382  \n",
       "3  1.150436 -0.889619 -1.334579  0.162604  0.303235 -2.050937  \n",
       "4  1.150436 -0.889619 -1.334579  0.162604  0.311086 -1.170492  "
      ]
     },
     "execution_count": 4,
     "metadata": {},
     "output_type": "execute_result"
    }
   ],
   "source": [
    "#performing Standardization to bring all value on same scale\n",
    "scaler = preprocessing.StandardScaler().fit(X)\n",
    "X = scaler.transform(X)\n",
    "X = pd.DataFrame(data=X, columns=boston['feature_names'])\n",
    "X.head()"
   ]
  },
  {
   "cell_type": "code",
   "execution_count": 5,
   "metadata": {},
   "outputs": [],
   "source": [
    "\n",
    "class LinearRegression():\n",
    "    def __init__(self, X, y, plot_error_per_iteration = False):\n",
    "        self.X = X \n",
    "        self.y = y #dimension: n*1\n",
    "        self.data = pd.concat([X, y], axis=1);\n",
    "        self.lr = 0.01 #defining learning rate\n",
    "        self.b = np.random.normal(0,1,1);\n",
    "        self.w = np.ones((self.X.shape[1], 1)) #generating intial weight vector of dimension 1*d, where d is no of columns/features\n",
    "        self.MSE_list = [];\n",
    "        self.plot_error_per_iteration = plot_error_per_iteration\n",
    "        self.n_iterations=500\n",
    "        \n",
    "    def computeDerivative(self, X, y):\n",
    "        \"\"\"\n",
    "        function to obtain derivative value which is -2*x * (y - W_T * X)\n",
    "        \"\"\"\n",
    "        X = X.values;\n",
    "        y = y.values;\n",
    "        wT_x = np.dot(X, self.w)#calculating x * w => multiplying X(n*d - dim) with weight(d*1), output will be of n*1 - dim\n",
    "        y_wT_x = y - (wT_x + self.b) #calculating y - (w_t * x) => output will be of dimension n*1\n",
    "        x_prod = -2 * X;\n",
    "        der = (x_prod*y_wT_x).sum(axis=0).reshape(-1,1) #der will be of dimension 1 * d\n",
    "        return self.w - self.lr * (der / y.shape[0]);\n",
    "        \n",
    "    \n",
    "    def computeIntercept(self, X, y):\n",
    "        \"\"\"\n",
    "        function to compute new intercept\n",
    "        \"\"\"\n",
    "        X = X.values;\n",
    "        y = y.values;\n",
    "        wT_x = np.dot(X, self.w)#calculating x * w => multiplying X(n*d - dim) with weight(d*1), output will be of n*1 - dim\n",
    "        y_wT_x = y - (wT_x + self.b)#calculating y - (w_t * x) => output will be of dimension n*1\n",
    "        y_prod = -2 * y_wT_x\n",
    "        intercept = y_prod.sum(axis=0).reshape(-1,1)\n",
    "        diff_in_intercept = self.b - self.lr * (intercept / y_prod.shape[0])\n",
    "        return diff_in_intercept\n",
    "        \n",
    "    def predict(self, X):\n",
    "        \"\"\"\n",
    "        function to predict output given query points\n",
    "        \"\"\"\n",
    "        wT_x = np.dot(self.w.T, X.T)\n",
    "        y = wT_x + self.b;\n",
    "        return y.T\n",
    "    \n",
    "    def addMSE(self, ):\n",
    "        \"\"\"\n",
    "        function to add mean squared error for each W, obtain in each iteration\n",
    "        \"\"\"\n",
    "        y_pred = self.predict(self.X);\n",
    "        self.MSE_list.append(MSE(y, y_pred));\n",
    "     \n",
    "    def plotError(self, ):\n",
    "        \"\"\"\n",
    "        function to plot error\n",
    "        \"\"\"\n",
    "        plt.plot(np.arange(0, len(self.MSE_list)), self.MSE_list);\n",
    "        plt.ylabel('MSE');\n",
    "        plt.xlabel('iterations')\n",
    "        plt.grid();\n",
    "        plt.show();\n",
    "        \n",
    "    def fit(self, ):\n",
    "        while self.n_iterations>0:\n",
    "            sample_data = self.data.sample(n=30)\n",
    "            X = sample_data.loc[:, sample_data.columns != 0];\n",
    "            y = sample_data.loc[:, [0]]\n",
    "            new_w = self.computeDerivative(X, y);\n",
    "            new_b = self.computeIntercept(X, y);\n",
    "            if (np.all(new_w - self.w) < 0.00001 and np.all(new_b - self.b) < 0.00001):\n",
    "                self.w = new_w\n",
    "                self.b = new_b\n",
    "                if self.plot_error_per_iteration:\n",
    "                    self.addMSE();\n",
    "                    self.plotError();\n",
    "                break\n",
    "            else:\n",
    "                #self.lr /= 2\n",
    "                self.w = new_w\n",
    "                self.b = new_b\n",
    "                self.n_iterations-=1\n",
    "                if self.plot_error_per_iteration:\n",
    "                    self.addMSE()"
   ]
  },
  {
   "cell_type": "code",
   "execution_count": 6,
   "metadata": {},
   "outputs": [
    {
     "name": "stdout",
     "output_type": "stream",
     "text": [
      "17.898983495319527\n"
     ]
    }
   ],
   "source": [
    "LR = LinearRegression(X, y, plot_error_per_iteration=True);\n",
    "LR.fit()\n",
    "y_pred = LR.predict(X);\n",
    "self_model_error = MSE(y, y_pred)\n",
    "print(self_model_error)"
   ]
  },
  {
   "cell_type": "code",
   "execution_count": 7,
   "metadata": {},
   "outputs": [
    {
     "name": "stdout",
     "output_type": "stream",
     "text": [
      "18.56519292103287\n"
     ]
    }
   ],
   "source": [
    "from sklearn import linear_model\n",
    "model = linear_model.SGDRegressor(penalty='none');\n",
    "model.fit(X, y);\n",
    "y_pred = model.predict(X);\n",
    "sgd_model_error = MSE(y, y_pred)\n",
    "print(sgd_model_error)"
   ]
  },
  {
   "cell_type": "code",
   "execution_count": 8,
   "metadata": {},
   "outputs": [
    {
     "name": "stdout",
     "output_type": "stream",
     "text": [
      "+-------------------+--------------------+\n",
      "|       Model       | Mean squared error |\n",
      "+-------------------+--------------------+\n",
      "|    SGDRegressor   | 18.56519292103287  |\n",
      "| our created model | 17.898983495319527 |\n",
      "+-------------------+--------------------+\n"
     ]
    }
   ],
   "source": [
    "from prettytable import PrettyTable\n",
    "\n",
    "x = PrettyTable()\n",
    "x.field_names = [\"Model\", \"Mean squared error\"]\n",
    "x.add_row([\"SGDRegressor\", sgd_model_error])\n",
    "x.add_row([\"our created model\",self_model_error ])\n",
    "print(x)"
   ]
  },
  {
   "cell_type": "code",
   "execution_count": null,
   "metadata": {},
   "outputs": [],
   "source": []
  }
 ],
 "metadata": {
  "kernelspec": {
   "display_name": "Python 3",
   "language": "python",
   "name": "python3"
  },
  "language_info": {
   "codemirror_mode": {
    "name": "ipython",
    "version": 3
   },
   "file_extension": ".py",
   "mimetype": "text/x-python",
   "name": "python",
   "nbconvert_exporter": "python",
   "pygments_lexer": "ipython3",
   "version": "3.6.5"
  }
 },
 "nbformat": 4,
 "nbformat_minor": 2
}
