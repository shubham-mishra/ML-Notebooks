{
 "cells": [
  {
   "cell_type": "code",
   "execution_count": 0,
   "metadata": {
    "colab": {},
    "colab_type": "code",
    "id": "bkoxTw4aDG81"
   },
   "outputs": [],
   "source": [
    "from keras.datasets import mnist\n",
    "from keras.models import Sequential\n",
    "from keras.layers import Dense, Dropout, Flatten, Dropout\n",
    "from keras.layers.normalization import BatchNormalization\n",
    "from keras.layers import Conv2D, MaxPooling2D\n",
    "from keras import backend as K\n",
    "import keras\n",
    "from keras.initializers import he_normal\n",
    "from keras.preprocessing.image import ImageDataGenerator\n",
    "from sklearn.model_selection import train_test_split\n",
    "from keras.utils import np_utils \n",
    "%matplotlib inline\n",
    "import matplotlib.pyplot as plt"
   ]
  },
  {
   "cell_type": "code",
   "execution_count": 0,
   "metadata": {
    "colab": {},
    "colab_type": "code",
    "id": "l_FcYbEbDtVF"
   },
   "outputs": [],
   "source": [
    "\n",
    "batch_size = 128\n",
    "num_classes = 10\n",
    "epochs = 15\n",
    "# input image dimensions\n",
    "img_rows, img_cols = 28, 28"
   ]
  },
  {
   "cell_type": "code",
   "execution_count": 0,
   "metadata": {
    "colab": {},
    "colab_type": "code",
    "id": "4bB6YEUDwmEt"
   },
   "outputs": [],
   "source": [
    "def plt_dynamic(x, vy, ty, ax, colors=['b']):\n",
    "    ax.plot(x, vy, 'b', label=\"Validation Loss\")\n",
    "    ax.plot(x, ty, 'r', label=\"Train Loss\")\n",
    "    plt.legend()\n",
    "    plt.grid()\n",
    "    fig.canvas.draw()"
   ]
  },
  {
   "cell_type": "code",
   "execution_count": 0,
   "metadata": {
    "colab": {},
    "colab_type": "code",
    "id": "rv5w9ISgDxwF"
   },
   "outputs": [],
   "source": [
    "# the data, split between train and test sets\n",
    "(x_train, y_train), (x_test, y_test) = mnist.load_data()"
   ]
  },
  {
   "cell_type": "code",
   "execution_count": 0,
   "metadata": {
    "colab": {},
    "colab_type": "code",
    "id": "fH4QPOqylJEQ"
   },
   "outputs": [],
   "source": [
    "#seperating cv data from train data\n",
    "x_train, x_cv, y_train, y_cv = train_test_split(x_train, y_train, test_size=0.2, random_state=123, stratify=y_train)"
   ]
  },
  {
   "cell_type": "code",
   "execution_count": 216,
   "metadata": {
    "colab": {
     "base_uri": "https://localhost:8080/",
     "height": 68
    },
    "colab_type": "code",
    "id": "j91OVRyDlNEg",
    "outputId": "d5d76c20-de1e-4be1-d503-1ff15ff78b69"
   },
   "outputs": [
    {
     "name": "stdout",
     "output_type": "stream",
     "text": [
      "Number of training examples : 48000 and each image is of shape (28, 28)\n",
      "Number of training examples : 12000 and each image is of shape (28, 28)\n",
      "Number of training examples : 10000 and each image is of shape (28, 28)\n"
     ]
    }
   ],
   "source": [
    "print(\"Number of training examples :\", x_train.shape[0], \"and each image is of shape (%d, %d)\"%(x_train.shape[1], x_train.shape[2]))\n",
    "print(\"Number of training examples :\", x_cv.shape[0], \"and each image is of shape (%d, %d)\"%(x_cv.shape[1], x_cv.shape[2]))\n",
    "print(\"Number of training examples :\", x_test.shape[0], \"and each image is of shape (%d, %d)\"%(x_test.shape[1], x_test.shape[2]))"
   ]
  },
  {
   "cell_type": "code",
   "execution_count": 0,
   "metadata": {
    "colab": {},
    "colab_type": "code",
    "id": "VZ3EGtC6EEog"
   },
   "outputs": [],
   "source": [
    "#defining train, test and input shape base on image data format of keras\n",
    "if K.image_data_format() == 'channels_first':\n",
    "    x_train = x_train.reshape(x_train.shape[0], 1, img_rows, img_cols)\n",
    "    x_cv = x_cv.reshape(x_cv.shape[0], 1, img_rows, img_cols)\n",
    "    x_test = x_test.reshape(x_test.shape[0], 1, img_rows, img_cols)\n",
    "    input_shape = (1, img_rows, img_cols)\n",
    "else:\n",
    "    x_train = x_train.reshape(x_train.shape[0], img_rows, img_cols, 1)\n",
    "    x_cv = x_cv.reshape(x_cv.shape[0], img_rows, img_cols, 1)\n",
    "    x_test = x_test.reshape(x_test.shape[0], img_rows, img_cols, 1)\n",
    "    input_shape = (img_rows, img_cols, 1)"
   ]
  },
  {
   "cell_type": "code",
   "execution_count": 0,
   "metadata": {
    "colab": {},
    "colab_type": "code",
    "id": "fXfskdLwEOoo"
   },
   "outputs": [],
   "source": [
    "#normalizing data\n",
    "x_train = x_train.astype('float32')\n",
    "x_cv = x_cv.astype('float32')\n",
    "x_test = x_test.astype('float32')\n",
    "x_train /= 255\n",
    "x_cv /= 255\n",
    "x_test /= 255"
   ]
  },
  {
   "cell_type": "code",
   "execution_count": 0,
   "metadata": {
    "colab": {},
    "colab_type": "code",
    "id": "mHNAnoVlE5Rg"
   },
   "outputs": [],
   "source": [
    "# convert class vectors to binary class matrices\n",
    "y_train = np_utils.to_categorical(y_train, num_classes)\n",
    "y_cv = np_utils.to_categorical(y_cv, num_classes)\n",
    "y_test = np_utils.to_categorical(y_test, num_classes)"
   ]
  },
  {
   "cell_type": "markdown",
   "metadata": {
    "colab_type": "text",
    "id": "XHChaUv2FF1h"
   },
   "source": [
    "# Convnet with 3*3 kernel size"
   ]
  },
  {
   "cell_type": "markdown",
   "metadata": {
    "colab_type": "text",
    "id": "l3zWc35yqcKh"
   },
   "source": [
    "**1) Convnet with 3*3 kernel size**"
   ]
  },
  {
   "cell_type": "code",
   "execution_count": 0,
   "metadata": {
    "colab": {},
    "colab_type": "code",
    "id": "wN-2-LqnEroQ"
   },
   "outputs": [],
   "source": [
    "model_a = Sequential()\n",
    "\n",
    "model_a.add(Conv2D(64, (3,3), activation='relu', input_shape=input_shape, padding='same'))\n",
    "model_a.add(Conv2D(64, (3,3), activation='relu', padding='same'))\n",
    "model_a.add(MaxPooling2D(pool_size=(2, 2)))\n",
    "\n",
    "model_a.add(Conv2D(128, (3,3), activation='relu', padding='same'))\n",
    "model_a.add(Conv2D(128, (3,3), activation='relu', padding='same'))\n",
    "model_a.add(MaxPooling2D(pool_size=(2,2)))\n",
    "\n",
    "model_a.add(Flatten())\n",
    "model_a.add(Dense(256, activation='relu', kernel_initializer='he_normal'))\n",
    "model_a.add(Dense(128, activation='relu', kernel_initializer='he_normal'))\n",
    "model_a.add(Dense(num_classes, activation='softmax'))"
   ]
  },
  {
   "cell_type": "code",
   "execution_count": 221,
   "metadata": {
    "colab": {
     "base_uri": "https://localhost:8080/",
     "height": 493
    },
    "colab_type": "code",
    "id": "G0XS8AHhG8vh",
    "outputId": "4d526981-d729-44cd-df7e-1d125251a223"
   },
   "outputs": [
    {
     "name": "stdout",
     "output_type": "stream",
     "text": [
      "Model: \"sequential_20\"\n",
      "_________________________________________________________________\n",
      "Layer (type)                 Output Shape              Param #   \n",
      "=================================================================\n",
      "conv2d_83 (Conv2D)           (None, 28, 28, 64)        640       \n",
      "_________________________________________________________________\n",
      "conv2d_84 (Conv2D)           (None, 28, 28, 64)        36928     \n",
      "_________________________________________________________________\n",
      "max_pooling2d_42 (MaxPooling (None, 14, 14, 64)        0         \n",
      "_________________________________________________________________\n",
      "conv2d_85 (Conv2D)           (None, 14, 14, 128)       73856     \n",
      "_________________________________________________________________\n",
      "conv2d_86 (Conv2D)           (None, 14, 14, 128)       147584    \n",
      "_________________________________________________________________\n",
      "max_pooling2d_43 (MaxPooling (None, 7, 7, 128)         0         \n",
      "_________________________________________________________________\n",
      "flatten_20 (Flatten)         (None, 6272)              0         \n",
      "_________________________________________________________________\n",
      "dense_56 (Dense)             (None, 256)               1605888   \n",
      "_________________________________________________________________\n",
      "dense_57 (Dense)             (None, 128)               32896     \n",
      "_________________________________________________________________\n",
      "dense_58 (Dense)             (None, 10)                1290      \n",
      "=================================================================\n",
      "Total params: 1,899,082\n",
      "Trainable params: 1,899,082\n",
      "Non-trainable params: 0\n",
      "_________________________________________________________________\n"
     ]
    }
   ],
   "source": [
    "model_a.summary()"
   ]
  },
  {
   "cell_type": "code",
   "execution_count": 0,
   "metadata": {
    "colab": {},
    "colab_type": "code",
    "id": "yUXJCdxrInbb"
   },
   "outputs": [],
   "source": [
    "model_a.compile(loss='categorical_crossentropy',\n",
    "              optimizer=keras.optimizers.Adam(),\n",
    "              metrics=['accuracy'])"
   ]
  },
  {
   "cell_type": "code",
   "execution_count": 0,
   "metadata": {
    "colab": {},
    "colab_type": "code",
    "id": "AcRfZw_SJf0M"
   },
   "outputs": [],
   "source": [
    "#Performing data augmentation\n",
    "train_gen = ImageDataGenerator(rotation_range=8, \n",
    "                               width_shift_range=0.08, \n",
    "                               shear_range=0.3, \n",
    "                               height_shift_range=0.08, \n",
    "                               zoom_range=0.08 )\n",
    "cv_gen = ImageDataGenerator()"
   ]
  },
  {
   "cell_type": "code",
   "execution_count": 0,
   "metadata": {
    "colab": {},
    "colab_type": "code",
    "id": "ara4Y-WXj5dQ"
   },
   "outputs": [],
   "source": [
    "training_generator= train_gen.flow(x_train, y_train, batch_size=batch_size)\n",
    "cv_generator= train_gen.flow(x_cv, y_cv, batch_size=batch_size)"
   ]
  },
  {
   "cell_type": "code",
   "execution_count": 225,
   "metadata": {
    "colab": {
     "base_uri": "https://localhost:8080/",
     "height": 527
    },
    "colab_type": "code",
    "id": "Ax7ruMOct2Ah",
    "outputId": "59694d92-446e-4096-f697-6c751fa92b08"
   },
   "outputs": [
    {
     "name": "stdout",
     "output_type": "stream",
     "text": [
      "Epoch 1/15\n",
      "375/375 [==============================] - 29s 79ms/step - loss: 0.2246 - acc: 0.9274 - val_loss: 0.0828 - val_acc: 0.9738\n",
      "Epoch 2/15\n",
      "375/375 [==============================] - 26s 68ms/step - loss: 0.0622 - acc: 0.9804 - val_loss: 0.0568 - val_acc: 0.9820\n",
      "Epoch 3/15\n",
      "375/375 [==============================] - 26s 68ms/step - loss: 0.0473 - acc: 0.9851 - val_loss: 0.0470 - val_acc: 0.9851\n",
      "Epoch 4/15\n",
      "375/375 [==============================] - 25s 68ms/step - loss: 0.0384 - acc: 0.9876 - val_loss: 0.0585 - val_acc: 0.9835\n",
      "Epoch 5/15\n",
      "375/375 [==============================] - 26s 68ms/step - loss: 0.0327 - acc: 0.9898 - val_loss: 0.0310 - val_acc: 0.9910\n",
      "Epoch 6/15\n",
      "375/375 [==============================] - 26s 68ms/step - loss: 0.0294 - acc: 0.9907 - val_loss: 0.0404 - val_acc: 0.9891\n",
      "Epoch 7/15\n",
      "375/375 [==============================] - 26s 68ms/step - loss: 0.0275 - acc: 0.9912 - val_loss: 0.0331 - val_acc: 0.9901\n",
      "Epoch 8/15\n",
      "375/375 [==============================] - 26s 68ms/step - loss: 0.0243 - acc: 0.9925 - val_loss: 0.0389 - val_acc: 0.9884\n",
      "Epoch 9/15\n",
      "375/375 [==============================] - 26s 68ms/step - loss: 0.0245 - acc: 0.9929 - val_loss: 0.0283 - val_acc: 0.9913\n",
      "Epoch 10/15\n",
      "375/375 [==============================] - 26s 69ms/step - loss: 0.0234 - acc: 0.9925 - val_loss: 0.0270 - val_acc: 0.9927\n",
      "Epoch 11/15\n",
      "375/375 [==============================] - 26s 69ms/step - loss: 0.0196 - acc: 0.9938 - val_loss: 0.0282 - val_acc: 0.9919\n",
      "Epoch 12/15\n",
      "375/375 [==============================] - 26s 68ms/step - loss: 0.0194 - acc: 0.9939 - val_loss: 0.0368 - val_acc: 0.9903\n",
      "Epoch 13/15\n",
      "375/375 [==============================] - 26s 69ms/step - loss: 0.0174 - acc: 0.9947 - val_loss: 0.0332 - val_acc: 0.9910\n",
      "Epoch 14/15\n",
      "375/375 [==============================] - 26s 69ms/step - loss: 0.0177 - acc: 0.9944 - val_loss: 0.0298 - val_acc: 0.9922\n",
      "Epoch 15/15\n",
      "375/375 [==============================] - 26s 69ms/step - loss: 0.0164 - acc: 0.9949 - val_loss: 0.0272 - val_acc: 0.9928\n"
     ]
    }
   ],
   "source": [
    "history = model_a.fit_generator(\n",
    "    training_generator,\n",
    "    steps_per_epoch=x_train.shape[0]//batch_size,\n",
    "    validation_data= cv_generator,\n",
    "    validation_steps=x_cv.shape[0]//batch_size,\n",
    "    epochs=epochs)"
   ]
  },
  {
   "cell_type": "code",
   "execution_count": 226,
   "metadata": {
    "colab": {
     "base_uri": "https://localhost:8080/",
     "height": 283
    },
    "colab_type": "code",
    "id": "unWe3JRYtQVY",
    "outputId": "7e04a439-1469-4743-8666-7079156d1503"
   },
   "outputs": [
    {
     "data": {
      "image/png": "[encoded data removed]",
      "text/plain": [
       "<Figure size 432x288 with 1 Axes>"
      ]
     },
     "metadata": {
      "tags": []
     },
     "output_type": "display_data"
    }
   ],
   "source": [
    "fig,ax = plt.subplots(1,1)\n",
    "ax.set_xlabel('epoch') ; ax.set_ylabel('Categorical Crossentropy Loss')\n",
    "# list of epoch numbers\n",
    "x = list(range(1,epochs+1))\n",
    "vy = history.history['val_loss']\n",
    "ty = history.history['loss']\n",
    "plt_dynamic(x, vy, ty, ax)"
   ]
  },
  {
   "cell_type": "code",
   "execution_count": 227,
   "metadata": {
    "colab": {
     "base_uri": "https://localhost:8080/",
     "height": 51
    },
    "colab_type": "code",
    "id": "akIdZx7UsMiL",
    "outputId": "a96a928a-c5f1-44ec-ac3a-94333e09b176"
   },
   "outputs": [
    {
     "name": "stdout",
     "output_type": "stream",
     "text": [
      "Test score: 0.02215424347009457\n",
      "Test accuracy: 0.9936\n"
     ]
    }
   ],
   "source": [
    "model_a_score = model_a.evaluate(x_test, y_test, verbose=0)\n",
    "print('Test score:', model_a_score[0]) \n",
    "print('Test accuracy:', model_a_score[1])"
   ]
  },
  {
   "cell_type": "markdown",
   "metadata": {
    "colab_type": "text",
    "id": "UaSAQyXgsqfI"
   },
   "source": [
    "**2) Convnet with 3*3 kernel size with dropout in dense as well as convolution layers**"
   ]
  },
  {
   "cell_type": "code",
   "execution_count": 0,
   "metadata": {
    "colab": {},
    "colab_type": "code",
    "id": "HVwfNUdVsplP"
   },
   "outputs": [],
   "source": [
    "model_b = Sequential()\n",
    "\n",
    "model_b.add(Conv2D(64, (3,3), activation='relu', input_shape=input_shape, padding='same'))\n",
    "model_b.add(Conv2D(64, (3,3), activation='relu', padding='same'))\n",
    "model_b.add(MaxPooling2D(pool_size=(2, 2)))\n",
    "model_b.add(Dropout(0.5))\n",
    "\n",
    "model_b.add(Conv2D(128, (3,3), activation='relu', padding='same'))\n",
    "model_b.add(Conv2D(128, (3,3), activation='relu', padding='same'))\n",
    "model_b.add(MaxPooling2D(pool_size=(2,2)))\n",
    "model_b.add(Dropout(0.5))\n",
    "\n",
    "model_b.add(Flatten())\n",
    "model_b.add(Dense(256, activation='relu', kernel_initializer='he_normal'))\n",
    "model_b.add(BatchNormalization())\n",
    "model_b.add(Dropout(0.5))\n",
    "\n",
    "model_b.add(Dense(128, activation='relu', kernel_initializer='he_normal'))\n",
    "model_b.add(BatchNormalization())\n",
    "model_b.add(Dropout(0.5))\n",
    "\n",
    "model_b.add(Dense(num_classes, activation='softmax'))"
   ]
  },
  {
   "cell_type": "code",
   "execution_count": 229,
   "metadata": {
    "colab": {
     "base_uri": "https://localhost:8080/",
     "height": 697
    },
    "colab_type": "code",
    "id": "Qwg8i6GzxebR",
    "outputId": "9d821823-7c53-4e67-8f50-3ea7ae3f1aa5"
   },
   "outputs": [
    {
     "name": "stdout",
     "output_type": "stream",
     "text": [
      "Model: \"sequential_21\"\n",
      "_________________________________________________________________\n",
      "Layer (type)                 Output Shape              Param #   \n",
      "=================================================================\n",
      "conv2d_87 (Conv2D)           (None, 28, 28, 64)        640       \n",
      "_________________________________________________________________\n",
      "conv2d_88 (Conv2D)           (None, 28, 28, 64)        36928     \n",
      "_________________________________________________________________\n",
      "max_pooling2d_44 (MaxPooling (None, 14, 14, 64)        0         \n",
      "_________________________________________________________________\n",
      "dropout_31 (Dropout)         (None, 14, 14, 64)        0         \n",
      "_________________________________________________________________\n",
      "conv2d_89 (Conv2D)           (None, 14, 14, 128)       73856     \n",
      "_________________________________________________________________\n",
      "conv2d_90 (Conv2D)           (None, 14, 14, 128)       147584    \n",
      "_________________________________________________________________\n",
      "max_pooling2d_45 (MaxPooling (None, 7, 7, 128)         0         \n",
      "_________________________________________________________________\n",
      "dropout_32 (Dropout)         (None, 7, 7, 128)         0         \n",
      "_________________________________________________________________\n",
      "flatten_21 (Flatten)         (None, 6272)              0         \n",
      "_________________________________________________________________\n",
      "dense_59 (Dense)             (None, 256)               1605888   \n",
      "_________________________________________________________________\n",
      "batch_normalization_21 (Batc (None, 256)               1024      \n",
      "_________________________________________________________________\n",
      "dropout_33 (Dropout)         (None, 256)               0         \n",
      "_________________________________________________________________\n",
      "dense_60 (Dense)             (None, 128)               32896     \n",
      "_________________________________________________________________\n",
      "batch_normalization_22 (Batc (None, 128)               512       \n",
      "_________________________________________________________________\n",
      "dropout_34 (Dropout)         (None, 128)               0         \n",
      "_________________________________________________________________\n",
      "dense_61 (Dense)             (None, 10)                1290      \n",
      "=================================================================\n",
      "Total params: 1,900,618\n",
      "Trainable params: 1,899,850\n",
      "Non-trainable params: 768\n",
      "_________________________________________________________________\n"
     ]
    }
   ],
   "source": [
    "model_b.summary()"
   ]
  },
  {
   "cell_type": "code",
   "execution_count": 0,
   "metadata": {
    "colab": {},
    "colab_type": "code",
    "id": "-Ym_kcLbxlUh"
   },
   "outputs": [],
   "source": [
    "model_b.compile(loss='categorical_crossentropy',\n",
    "              optimizer=keras.optimizers.Adam(),\n",
    "              metrics=['accuracy'])"
   ]
  },
  {
   "cell_type": "code",
   "execution_count": 231,
   "metadata": {
    "colab": {
     "base_uri": "https://localhost:8080/",
     "height": 527
    },
    "colab_type": "code",
    "id": "EHw2zgDFxrRf",
    "outputId": "5c8f101a-733d-4b7d-9c45-bd4afc76bb99"
   },
   "outputs": [
    {
     "name": "stdout",
     "output_type": "stream",
     "text": [
      "Epoch 1/15\n",
      "375/375 [==============================] - 32s 87ms/step - loss: 0.6574 - acc: 0.7961 - val_loss: 0.1021 - val_acc: 0.9682\n",
      "Epoch 2/15\n",
      "375/375 [==============================] - 28s 75ms/step - loss: 0.1738 - acc: 0.9485 - val_loss: 0.0650 - val_acc: 0.9809\n",
      "Epoch 3/15\n",
      "375/375 [==============================] - 28s 74ms/step - loss: 0.1265 - acc: 0.9621 - val_loss: 0.0549 - val_acc: 0.9832\n",
      "Epoch 4/15\n",
      "375/375 [==============================] - 28s 74ms/step - loss: 0.0996 - acc: 0.9705 - val_loss: 0.0631 - val_acc: 0.9813\n",
      "Epoch 5/15\n",
      "375/375 [==============================] - 27s 73ms/step - loss: 0.0886 - acc: 0.9748 - val_loss: 0.0474 - val_acc: 0.9859\n",
      "Epoch 6/15\n",
      "375/375 [==============================] - 28s 74ms/step - loss: 0.0803 - acc: 0.9761 - val_loss: 0.0370 - val_acc: 0.9883\n",
      "Epoch 7/15\n",
      "375/375 [==============================] - 28s 74ms/step - loss: 0.0756 - acc: 0.9776 - val_loss: 0.0540 - val_acc: 0.9847\n",
      "Epoch 8/15\n",
      "375/375 [==============================] - 28s 75ms/step - loss: 0.0697 - acc: 0.9797 - val_loss: 0.0324 - val_acc: 0.9896\n",
      "Epoch 9/15\n",
      "375/375 [==============================] - 28s 74ms/step - loss: 0.0623 - acc: 0.9818 - val_loss: 0.0293 - val_acc: 0.9911\n",
      "Epoch 10/15\n",
      "375/375 [==============================] - 28s 74ms/step - loss: 0.0607 - acc: 0.9819 - val_loss: 0.0304 - val_acc: 0.9912\n",
      "Epoch 11/15\n",
      "375/375 [==============================] - 28s 74ms/step - loss: 0.0601 - acc: 0.9819 - val_loss: 0.0273 - val_acc: 0.9926\n",
      "Epoch 12/15\n",
      "375/375 [==============================] - 28s 75ms/step - loss: 0.0546 - acc: 0.9840 - val_loss: 0.0319 - val_acc: 0.9914\n",
      "Epoch 13/15\n",
      "375/375 [==============================] - 28s 74ms/step - loss: 0.0501 - acc: 0.9855 - val_loss: 0.0313 - val_acc: 0.9907\n",
      "Epoch 14/15\n",
      "375/375 [==============================] - 28s 73ms/step - loss: 0.0497 - acc: 0.9853 - val_loss: 0.0229 - val_acc: 0.9923\n",
      "Epoch 15/15\n",
      "375/375 [==============================] - 28s 75ms/step - loss: 0.0498 - acc: 0.9854 - val_loss: 0.0281 - val_acc: 0.9926\n"
     ]
    }
   ],
   "source": [
    "history = model_b.fit_generator(\n",
    "    training_generator,\n",
    "    steps_per_epoch=x_train.shape[0]//batch_size,\n",
    "    validation_data= cv_generator,\n",
    "    validation_steps=x_cv.shape[0]//batch_size,\n",
    "    epochs=epochs)"
   ]
  },
  {
   "cell_type": "code",
   "execution_count": 232,
   "metadata": {
    "colab": {
     "base_uri": "https://localhost:8080/",
     "height": 283
    },
    "colab_type": "code",
    "id": "NyAXrsIKxwYg",
    "outputId": "299e9f32-fa95-4eae-e609-4dba210b3792"
   },
   "outputs": [
    {
     "data": {
      "image/png": "[encoded data removed]",
      "text/plain": [
       "<Figure size 432x288 with 1 Axes>"
      ]
     },
     "metadata": {
      "tags": []
     },
     "output_type": "display_data"
    }
   ],
   "source": [
    "fig,ax = plt.subplots(1,1)\n",
    "ax.set_xlabel('epoch') ; ax.set_ylabel('Categorical Crossentropy Loss')\n",
    "# list of epoch numbers\n",
    "x = list(range(1,epochs+1))\n",
    "vy = history.history['val_loss']\n",
    "ty = history.history['loss']\n",
    "plt_dynamic(x, vy, ty, ax)"
   ]
  },
  {
   "cell_type": "code",
   "execution_count": 233,
   "metadata": {
    "colab": {
     "base_uri": "https://localhost:8080/",
     "height": 51
    },
    "colab_type": "code",
    "id": "tNjuiepux0RP",
    "outputId": "8a96c76c-1712-4ced-b722-eb8ffdf717ec"
   },
   "outputs": [
    {
     "name": "stdout",
     "output_type": "stream",
     "text": [
      "Test score: 0.01806922753486506\n",
      "Test accuracy: 0.9951\n"
     ]
    }
   ],
   "source": [
    "model_b_score = model_b.evaluate(x_test, y_test, verbose=0)\n",
    "print('Test score:', model_b_score[0]) \n",
    "print('Test accuracy:', model_b_score[1])"
   ]
  },
  {
   "cell_type": "markdown",
   "metadata": {
    "colab_type": "text",
    "id": "Dpy9es2Rx87t"
   },
   "source": [
    "**3) Convnet with 3*3 kernel size with dropout in dense layers only**"
   ]
  },
  {
   "cell_type": "code",
   "execution_count": 0,
   "metadata": {
    "colab": {},
    "colab_type": "code",
    "id": "j4C4kgTsx7tu"
   },
   "outputs": [],
   "source": [
    "model_c = Sequential()\n",
    "\n",
    "model_c.add(Conv2D(64, (3,3), activation='relu', input_shape=input_shape, padding='same'))\n",
    "model_c.add(Conv2D(64, (3,3), activation='relu', padding='same'))\n",
    "model_c.add(MaxPooling2D(pool_size=(2, 2)))\n",
    "\n",
    "model_c.add(Conv2D(128, (3,3), activation='relu', padding='same'))\n",
    "model_c.add(Conv2D(128, (3,3), activation='relu', padding='same'))\n",
    "model_c.add(MaxPooling2D(pool_size=(2,2)))\n",
    "\n",
    "model_c.add(Flatten())\n",
    "model_c.add(Dense(256, activation='relu', kernel_initializer='he_normal'))\n",
    "model_c.add(BatchNormalization())\n",
    "model_c.add(Dropout(0.5))\n",
    "\n",
    "model_c.add(Dense(128, activation='relu', kernel_initializer='he_normal'))\n",
    "model_c.add(BatchNormalization())\n",
    "model_c.add(Dropout(0.5))\n",
    "\n",
    "model_c.add(Dense(num_classes, activation='softmax'))"
   ]
  },
  {
   "cell_type": "code",
   "execution_count": 235,
   "metadata": {
    "colab": {
     "base_uri": "https://localhost:8080/",
     "height": 629
    },
    "colab_type": "code",
    "id": "dkaQvmDiyOhr",
    "outputId": "3b09a46b-62d2-4379-9d09-d9363ec8ed19"
   },
   "outputs": [
    {
     "name": "stdout",
     "output_type": "stream",
     "text": [
      "Model: \"sequential_22\"\n",
      "_________________________________________________________________\n",
      "Layer (type)                 Output Shape              Param #   \n",
      "=================================================================\n",
      "conv2d_91 (Conv2D)           (None, 28, 28, 64)        640       \n",
      "_________________________________________________________________\n",
      "conv2d_92 (Conv2D)           (None, 28, 28, 64)        36928     \n",
      "_________________________________________________________________\n",
      "max_pooling2d_46 (MaxPooling (None, 14, 14, 64)        0         \n",
      "_________________________________________________________________\n",
      "conv2d_93 (Conv2D)           (None, 14, 14, 128)       73856     \n",
      "_________________________________________________________________\n",
      "conv2d_94 (Conv2D)           (None, 14, 14, 128)       147584    \n",
      "_________________________________________________________________\n",
      "max_pooling2d_47 (MaxPooling (None, 7, 7, 128)         0         \n",
      "_________________________________________________________________\n",
      "flatten_22 (Flatten)         (None, 6272)              0         \n",
      "_________________________________________________________________\n",
      "dense_62 (Dense)             (None, 256)               1605888   \n",
      "_________________________________________________________________\n",
      "batch_normalization_23 (Batc (None, 256)               1024      \n",
      "_________________________________________________________________\n",
      "dropout_35 (Dropout)         (None, 256)               0         \n",
      "_________________________________________________________________\n",
      "dense_63 (Dense)             (None, 128)               32896     \n",
      "_________________________________________________________________\n",
      "batch_normalization_24 (Batc (None, 128)               512       \n",
      "_________________________________________________________________\n",
      "dropout_36 (Dropout)         (None, 128)               0         \n",
      "_________________________________________________________________\n",
      "dense_64 (Dense)             (None, 10)                1290      \n",
      "=================================================================\n",
      "Total params: 1,900,618\n",
      "Trainable params: 1,899,850\n",
      "Non-trainable params: 768\n",
      "_________________________________________________________________\n"
     ]
    }
   ],
   "source": [
    "model_c.summary()"
   ]
  },
  {
   "cell_type": "code",
   "execution_count": 0,
   "metadata": {
    "colab": {},
    "colab_type": "code",
    "id": "tlo1f0_oyR17"
   },
   "outputs": [],
   "source": [
    "model_c.compile(loss='categorical_crossentropy',\n",
    "              optimizer=keras.optimizers.Adam(),\n",
    "              metrics=['accuracy'])"
   ]
  },
  {
   "cell_type": "code",
   "execution_count": 237,
   "metadata": {
    "colab": {
     "base_uri": "https://localhost:8080/",
     "height": 527
    },
    "colab_type": "code",
    "id": "lGxbhKC_yZN5",
    "outputId": "e17f968d-5c2e-41cd-8980-3c3d85d4c8c8"
   },
   "outputs": [
    {
     "name": "stdout",
     "output_type": "stream",
     "text": [
      "Epoch 1/15\n",
      "375/375 [==============================] - 32s 85ms/step - loss: 0.3709 - acc: 0.8864 - val_loss: 0.1033 - val_acc: 0.9689\n",
      "Epoch 2/15\n",
      "375/375 [==============================] - 27s 73ms/step - loss: 0.1054 - acc: 0.9693 - val_loss: 0.1842 - val_acc: 0.9477\n",
      "Epoch 3/15\n",
      "375/375 [==============================] - 28s 73ms/step - loss: 0.0760 - acc: 0.9778 - val_loss: 0.0500 - val_acc: 0.9862\n",
      "Epoch 4/15\n",
      "375/375 [==============================] - 27s 73ms/step - loss: 0.0615 - acc: 0.9819 - val_loss: 0.0433 - val_acc: 0.9874\n",
      "Epoch 5/15\n",
      "375/375 [==============================] - 27s 73ms/step - loss: 0.0577 - acc: 0.9830 - val_loss: 0.0414 - val_acc: 0.9870\n",
      "Epoch 6/15\n",
      "375/375 [==============================] - 27s 73ms/step - loss: 0.0484 - acc: 0.9859 - val_loss: 0.0427 - val_acc: 0.9869\n",
      "Epoch 7/15\n",
      "375/375 [==============================] - 28s 74ms/step - loss: 0.0461 - acc: 0.9867 - val_loss: 0.0341 - val_acc: 0.9904\n",
      "Epoch 8/15\n",
      "375/375 [==============================] - 27s 73ms/step - loss: 0.0421 - acc: 0.9874 - val_loss: 0.0523 - val_acc: 0.9857\n",
      "Epoch 9/15\n",
      "375/375 [==============================] - 27s 73ms/step - loss: 0.0398 - acc: 0.9881 - val_loss: 0.0369 - val_acc: 0.9887\n",
      "Epoch 10/15\n",
      "375/375 [==============================] - 27s 73ms/step - loss: 0.0359 - acc: 0.9894 - val_loss: 0.0418 - val_acc: 0.9880\n",
      "Epoch 11/15\n",
      "375/375 [==============================] - 27s 73ms/step - loss: 0.0343 - acc: 0.9899 - val_loss: 0.0288 - val_acc: 0.9930\n",
      "Epoch 12/15\n",
      "375/375 [==============================] - 28s 74ms/step - loss: 0.0321 - acc: 0.9905 - val_loss: 0.0267 - val_acc: 0.9917\n",
      "Epoch 13/15\n",
      "375/375 [==============================] - 28s 73ms/step - loss: 0.0324 - acc: 0.9898 - val_loss: 0.0297 - val_acc: 0.9916\n",
      "Epoch 14/15\n",
      "375/375 [==============================] - 28s 74ms/step - loss: 0.0293 - acc: 0.9914 - val_loss: 0.0342 - val_acc: 0.9911\n",
      "Epoch 15/15\n",
      "375/375 [==============================] - 28s 73ms/step - loss: 0.0281 - acc: 0.9916 - val_loss: 0.0300 - val_acc: 0.9918\n"
     ]
    }
   ],
   "source": [
    "history = model_c.fit_generator(\n",
    "    training_generator,\n",
    "    steps_per_epoch=x_train.shape[0]//batch_size,\n",
    "    validation_data= cv_generator,\n",
    "    validation_steps=x_cv.shape[0]//batch_size,\n",
    "    epochs=epochs)"
   ]
  },
  {
   "cell_type": "code",
   "execution_count": 238,
   "metadata": {
    "colab": {
     "base_uri": "https://localhost:8080/",
     "height": 283
    },
    "colab_type": "code",
    "id": "mtY4vGDMybaJ",
    "outputId": "359697e3-596d-43be-d064-c80463192544"
   },
   "outputs": [
    {
     "data": {
      "image/png": "[encoded data removed]",
      "text/plain": [
       "<Figure size 432x288 with 1 Axes>"
      ]
     },
     "metadata": {
      "tags": []
     },
     "output_type": "display_data"
    }
   ],
   "source": [
    "fig,ax = plt.subplots(1,1)\n",
    "ax.set_xlabel('epoch') ; ax.set_ylabel('Categorical Crossentropy Loss')\n",
    "# list of epoch numbers\n",
    "x = list(range(1,epochs+1))\n",
    "vy = history.history['val_loss']\n",
    "ty = history.history['loss']\n",
    "plt_dynamic(x, vy, ty, ax)"
   ]
  },
  {
   "cell_type": "code",
   "execution_count": 239,
   "metadata": {
    "colab": {
     "base_uri": "https://localhost:8080/",
     "height": 51
    },
    "colab_type": "code",
    "id": "QVV63tZ9yU5o",
    "outputId": "de3c3a96-810e-469b-86a1-8414f260db16"
   },
   "outputs": [
    {
     "name": "stdout",
     "output_type": "stream",
     "text": [
      "Test score: 0.019041191640232866\n",
      "Test accuracy: 0.9948\n"
     ]
    }
   ],
   "source": [
    "model_c_score = model_c.evaluate(x_test, y_test, verbose=0)\n",
    "print('Test score:', model_c_score[0]) \n",
    "print('Test accuracy:', model_c_score[1])"
   ]
  },
  {
   "cell_type": "markdown",
   "metadata": {
    "colab_type": "text",
    "id": "BQl17i11zHMj"
   },
   "source": [
    "**4) Convnet with 3*3 kernel size with more no. of convolution layers**"
   ]
  },
  {
   "cell_type": "code",
   "execution_count": 0,
   "metadata": {
    "colab": {},
    "colab_type": "code",
    "id": "4uGh5VLlzGcT"
   },
   "outputs": [],
   "source": [
    "model_d = Sequential()\n",
    "\n",
    "model_d.add(Conv2D(64, (3,3), activation='relu', input_shape=input_shape, padding='same'))\n",
    "model_d.add(Conv2D(64, (3,3), activation='relu', padding='same'))\n",
    "model_d.add(MaxPooling2D(pool_size=(2, 2)))\n",
    "\n",
    "model_d.add(Conv2D(128, (3,3), activation='relu', padding='same'))\n",
    "model_d.add(Conv2D(128, (3,3), activation='relu', padding='same'))\n",
    "model_d.add(MaxPooling2D(pool_size=(2,2)))\n",
    "\n",
    "model_d.add(Conv2D(256, (3,3), activation='relu', padding='same'))\n",
    "model_d.add(Conv2D(256, (3,3), activation='relu', padding='same'))\n",
    "model_d.add(MaxPooling2D(pool_size=(2,2)))\n",
    "\n",
    "model_d.add(Flatten())\n",
    "model_d.add(Dense(256, activation='relu', kernel_initializer='he_normal'))\n",
    "model_d.add(BatchNormalization())\n",
    "model_d.add(Dropout(0.5))\n",
    "\n",
    "model_d.add(Dense(128, activation='relu', kernel_initializer='he_normal'))\n",
    "model_d.add(BatchNormalization())\n",
    "model_d.add(Dropout(0.5))\n",
    "\n",
    "model_d.add(Dense(num_classes, activation='softmax'))"
   ]
  },
  {
   "cell_type": "code",
   "execution_count": 241,
   "metadata": {
    "colab": {
     "base_uri": "https://localhost:8080/",
     "height": 731
    },
    "colab_type": "code",
    "id": "R7xPdW9w0lnU",
    "outputId": "8e28a486-600d-4815-eb28-8e6e4a67825c"
   },
   "outputs": [
    {
     "name": "stdout",
     "output_type": "stream",
     "text": [
      "Model: \"sequential_23\"\n",
      "_________________________________________________________________\n",
      "Layer (type)                 Output Shape              Param #   \n",
      "=================================================================\n",
      "conv2d_95 (Conv2D)           (None, 28, 28, 64)        640       \n",
      "_________________________________________________________________\n",
      "conv2d_96 (Conv2D)           (None, 28, 28, 64)        36928     \n",
      "_________________________________________________________________\n",
      "max_pooling2d_48 (MaxPooling (None, 14, 14, 64)        0         \n",
      "_________________________________________________________________\n",
      "conv2d_97 (Conv2D)           (None, 14, 14, 128)       73856     \n",
      "_________________________________________________________________\n",
      "conv2d_98 (Conv2D)           (None, 14, 14, 128)       147584    \n",
      "_________________________________________________________________\n",
      "max_pooling2d_49 (MaxPooling (None, 7, 7, 128)         0         \n",
      "_________________________________________________________________\n",
      "conv2d_99 (Conv2D)           (None, 7, 7, 256)         295168    \n",
      "_________________________________________________________________\n",
      "conv2d_100 (Conv2D)          (None, 7, 7, 256)         590080    \n",
      "_________________________________________________________________\n",
      "max_pooling2d_50 (MaxPooling (None, 3, 3, 256)         0         \n",
      "_________________________________________________________________\n",
      "flatten_23 (Flatten)         (None, 2304)              0         \n",
      "_________________________________________________________________\n",
      "dense_65 (Dense)             (None, 256)               590080    \n",
      "_________________________________________________________________\n",
      "batch_normalization_25 (Batc (None, 256)               1024      \n",
      "_________________________________________________________________\n",
      "dropout_37 (Dropout)         (None, 256)               0         \n",
      "_________________________________________________________________\n",
      "dense_66 (Dense)             (None, 128)               32896     \n",
      "_________________________________________________________________\n",
      "batch_normalization_26 (Batc (None, 128)               512       \n",
      "_________________________________________________________________\n",
      "dropout_38 (Dropout)         (None, 128)               0         \n",
      "_________________________________________________________________\n",
      "dense_67 (Dense)             (None, 10)                1290      \n",
      "=================================================================\n",
      "Total params: 1,770,058\n",
      "Trainable params: 1,769,290\n",
      "Non-trainable params: 768\n",
      "_________________________________________________________________\n"
     ]
    }
   ],
   "source": [
    "model_d.summary()"
   ]
  },
  {
   "cell_type": "code",
   "execution_count": 0,
   "metadata": {
    "colab": {},
    "colab_type": "code",
    "id": "vZvudJvZ0nk0"
   },
   "outputs": [],
   "source": [
    "model_d.compile(loss='categorical_crossentropy',\n",
    "              optimizer=keras.optimizers.Adam(),\n",
    "              metrics=['accuracy'])"
   ]
  },
  {
   "cell_type": "code",
   "execution_count": 243,
   "metadata": {
    "colab": {
     "base_uri": "https://localhost:8080/",
     "height": 527
    },
    "colab_type": "code",
    "id": "2LzpyDPb0qgT",
    "outputId": "54a41c8a-8f60-47bd-dc36-73dc9c9af56b"
   },
   "outputs": [
    {
     "name": "stdout",
     "output_type": "stream",
     "text": [
      "Epoch 1/15\n",
      "375/375 [==============================] - 35s 92ms/step - loss: 0.3510 - acc: 0.8931 - val_loss: 0.4977 - val_acc: 0.8568\n",
      "Epoch 2/15\n",
      "375/375 [==============================] - 29s 78ms/step - loss: 0.0914 - acc: 0.9731 - val_loss: 0.1430 - val_acc: 0.9566\n",
      "Epoch 3/15\n",
      "375/375 [==============================] - 29s 78ms/step - loss: 0.0649 - acc: 0.9815 - val_loss: 0.0920 - val_acc: 0.9730\n",
      "Epoch 4/15\n",
      "375/375 [==============================] - 30s 79ms/step - loss: 0.0533 - acc: 0.9840 - val_loss: 0.0574 - val_acc: 0.9832\n",
      "Epoch 5/15\n",
      "375/375 [==============================] - 30s 81ms/step - loss: 0.0493 - acc: 0.9854 - val_loss: 0.0710 - val_acc: 0.9798\n",
      "Epoch 6/15\n",
      "375/375 [==============================] - 30s 81ms/step - loss: 0.0441 - acc: 0.9868 - val_loss: 0.0660 - val_acc: 0.9814\n",
      "Epoch 7/15\n",
      "375/375 [==============================] - 30s 80ms/step - loss: 0.0398 - acc: 0.9884 - val_loss: 0.0449 - val_acc: 0.9874\n",
      "Epoch 8/15\n",
      "375/375 [==============================] - 30s 80ms/step - loss: 0.0331 - acc: 0.9906 - val_loss: 0.0398 - val_acc: 0.9897\n",
      "Epoch 9/15\n",
      "375/375 [==============================] - 30s 81ms/step - loss: 0.0337 - acc: 0.9904 - val_loss: 0.0309 - val_acc: 0.9925\n",
      "Epoch 10/15\n",
      "375/375 [==============================] - 30s 80ms/step - loss: 0.0307 - acc: 0.9910 - val_loss: 0.0369 - val_acc: 0.9900\n",
      "Epoch 11/15\n",
      "375/375 [==============================] - 29s 78ms/step - loss: 0.0278 - acc: 0.9920 - val_loss: 0.0390 - val_acc: 0.9895\n",
      "Epoch 12/15\n",
      "375/375 [==============================] - 29s 79ms/step - loss: 0.0309 - acc: 0.9915 - val_loss: 0.0280 - val_acc: 0.9922\n",
      "Epoch 13/15\n",
      "375/375 [==============================] - 29s 78ms/step - loss: 0.0277 - acc: 0.9924 - val_loss: 0.0217 - val_acc: 0.9933\n",
      "Epoch 14/15\n",
      "375/375 [==============================] - 29s 78ms/step - loss: 0.0238 - acc: 0.9928 - val_loss: 0.0340 - val_acc: 0.9923\n",
      "Epoch 15/15\n",
      "375/375 [==============================] - 29s 78ms/step - loss: 0.0231 - acc: 0.9931 - val_loss: 0.0279 - val_acc: 0.9920\n"
     ]
    }
   ],
   "source": [
    "history = model_d.fit_generator(\n",
    "    training_generator,\n",
    "    steps_per_epoch=x_train.shape[0]//batch_size,\n",
    "    validation_data= cv_generator,\n",
    "    validation_steps=x_cv.shape[0]//batch_size,\n",
    "    epochs=epochs)"
   ]
  },
  {
   "cell_type": "code",
   "execution_count": 244,
   "metadata": {
    "colab": {
     "base_uri": "https://localhost:8080/",
     "height": 283
    },
    "colab_type": "code",
    "id": "vFzBHamA0w_j",
    "outputId": "2a637071-d145-458d-a703-1130b8c38654"
   },
   "outputs": [
    {
     "data": {
      "image/png": "[encoded data removed]",
      "text/plain": [
       "<Figure size 432x288 with 1 Axes>"
      ]
     },
     "metadata": {
      "tags": []
     },
     "output_type": "display_data"
    }
   ],
   "source": [
    "fig,ax = plt.subplots(1,1)\n",
    "ax.set_xlabel('epoch') ; ax.set_ylabel('Categorical Crossentropy Loss')\n",
    "# list of epoch numbers\n",
    "x = list(range(1,epochs+1))\n",
    "vy = history.history['val_loss']\n",
    "ty = history.history['loss']\n",
    "plt_dynamic(x, vy, ty, ax)"
   ]
  },
  {
   "cell_type": "code",
   "execution_count": 245,
   "metadata": {
    "colab": {
     "base_uri": "https://localhost:8080/",
     "height": 51
    },
    "colab_type": "code",
    "id": "9ZjFxlRT00Hy",
    "outputId": "05bc0385-dbe0-45bd-d343-139d6dff79b3"
   },
   "outputs": [
    {
     "name": "stdout",
     "output_type": "stream",
     "text": [
      "Test score: 0.019454195042738136\n",
      "Test accuracy: 0.9935\n"
     ]
    }
   ],
   "source": [
    "model_d_score = model_d.evaluate(x_test, y_test, verbose=0)\n",
    "print('Test score:', model_d_score[0]) \n",
    "print('Test accuracy:', model_d_score[1])"
   ]
  },
  {
   "cell_type": "markdown",
   "metadata": {
    "colab_type": "text",
    "id": "N6MsOAbm1e0O"
   },
   "source": [
    "# Convnet with 5*5 kernel size"
   ]
  },
  {
   "cell_type": "markdown",
   "metadata": {
    "colab_type": "text",
    "id": "nr1J8X1U1qT0"
   },
   "source": [
    "**1) Convnet with 5*5 kernel size**"
   ]
  },
  {
   "cell_type": "code",
   "execution_count": 0,
   "metadata": {
    "colab": {},
    "colab_type": "code",
    "id": "1_nwXjS-1c1t"
   },
   "outputs": [],
   "source": [
    "model_e = Sequential()\n",
    "\n",
    "model_e.add(Conv2D(64, (5,5), activation='relu', input_shape=input_shape, padding='same'))\n",
    "model_e.add(Conv2D(64, (5,5), activation='relu', padding='same'))\n",
    "model_e.add(MaxPooling2D(pool_size=(2, 2)))\n",
    "\n",
    "model_e.add(Conv2D(128, (5,5), activation='relu', padding='same'))\n",
    "model_e.add(Conv2D(128, (5,5), activation='relu', padding='same'))\n",
    "model_e.add(MaxPooling2D(pool_size=(2,2)))\n",
    "\n",
    "model_e.add(Flatten())\n",
    "model_e.add(Dense(256, activation='relu', kernel_initializer='he_normal'))\n",
    "model_e.add(Dense(128, activation='relu', kernel_initializer='he_normal'))\n",
    "model_e.add(Dense(num_classes, activation='softmax'))"
   ]
  },
  {
   "cell_type": "code",
   "execution_count": 247,
   "metadata": {
    "colab": {
     "base_uri": "https://localhost:8080/",
     "height": 493
    },
    "colab_type": "code",
    "id": "kLPuOsYi20MB",
    "outputId": "ee658747-ac4b-4eef-dac6-bdf4de322606"
   },
   "outputs": [
    {
     "name": "stdout",
     "output_type": "stream",
     "text": [
      "Model: \"sequential_24\"\n",
      "_________________________________________________________________\n",
      "Layer (type)                 Output Shape              Param #   \n",
      "=================================================================\n",
      "conv2d_101 (Conv2D)          (None, 28, 28, 64)        1664      \n",
      "_________________________________________________________________\n",
      "conv2d_102 (Conv2D)          (None, 28, 28, 64)        102464    \n",
      "_________________________________________________________________\n",
      "max_pooling2d_51 (MaxPooling (None, 14, 14, 64)        0         \n",
      "_________________________________________________________________\n",
      "conv2d_103 (Conv2D)          (None, 14, 14, 128)       204928    \n",
      "_________________________________________________________________\n",
      "conv2d_104 (Conv2D)          (None, 14, 14, 128)       409728    \n",
      "_________________________________________________________________\n",
      "max_pooling2d_52 (MaxPooling (None, 7, 7, 128)         0         \n",
      "_________________________________________________________________\n",
      "flatten_24 (Flatten)         (None, 6272)              0         \n",
      "_________________________________________________________________\n",
      "dense_68 (Dense)             (None, 256)               1605888   \n",
      "_________________________________________________________________\n",
      "dense_69 (Dense)             (None, 128)               32896     \n",
      "_________________________________________________________________\n",
      "dense_70 (Dense)             (None, 10)                1290      \n",
      "=================================================================\n",
      "Total params: 2,358,858\n",
      "Trainable params: 2,358,858\n",
      "Non-trainable params: 0\n",
      "_________________________________________________________________\n"
     ]
    }
   ],
   "source": [
    "model_e.summary()"
   ]
  },
  {
   "cell_type": "code",
   "execution_count": 0,
   "metadata": {
    "colab": {},
    "colab_type": "code",
    "id": "M-QOu_0M23Ph"
   },
   "outputs": [],
   "source": [
    "model_e.compile(loss='categorical_crossentropy',\n",
    "              optimizer=keras.optimizers.Adam(),\n",
    "              metrics=['accuracy'])"
   ]
  },
  {
   "cell_type": "code",
   "execution_count": 249,
   "metadata": {
    "colab": {
     "base_uri": "https://localhost:8080/",
     "height": 527
    },
    "colab_type": "code",
    "id": "0y8YCI5e253_",
    "outputId": "79062a83-ac83-47db-ae67-58e6bc8d2b43"
   },
   "outputs": [
    {
     "name": "stdout",
     "output_type": "stream",
     "text": [
      "Epoch 1/15\n",
      "375/375 [==============================] - 33s 87ms/step - loss: 0.2075 - acc: 0.9327 - val_loss: 0.0827 - val_acc: 0.9747\n",
      "Epoch 2/15\n",
      "375/375 [==============================] - 28s 74ms/step - loss: 0.0609 - acc: 0.9812 - val_loss: 0.0395 - val_acc: 0.9892\n",
      "Epoch 3/15\n",
      "375/375 [==============================] - 28s 74ms/step - loss: 0.0420 - acc: 0.9871 - val_loss: 0.0440 - val_acc: 0.9868\n",
      "Epoch 4/15\n",
      "375/375 [==============================] - 28s 75ms/step - loss: 0.0361 - acc: 0.9887 - val_loss: 0.0398 - val_acc: 0.9886\n",
      "Epoch 5/15\n",
      "375/375 [==============================] - 28s 75ms/step - loss: 0.0325 - acc: 0.9901 - val_loss: 0.0365 - val_acc: 0.9892\n",
      "Epoch 6/15\n",
      "375/375 [==============================] - 28s 75ms/step - loss: 0.0299 - acc: 0.9905 - val_loss: 0.0248 - val_acc: 0.9936\n",
      "Epoch 7/15\n",
      "375/375 [==============================] - 28s 75ms/step - loss: 0.0252 - acc: 0.9920 - val_loss: 0.0340 - val_acc: 0.9897\n",
      "Epoch 8/15\n",
      "375/375 [==============================] - 28s 74ms/step - loss: 0.0241 - acc: 0.9925 - val_loss: 0.0313 - val_acc: 0.9923\n",
      "Epoch 9/15\n",
      "375/375 [==============================] - 28s 75ms/step - loss: 0.0210 - acc: 0.9938 - val_loss: 0.0340 - val_acc: 0.9906\n",
      "Epoch 10/15\n",
      "375/375 [==============================] - 28s 74ms/step - loss: 0.0204 - acc: 0.9939 - val_loss: 0.0329 - val_acc: 0.9919\n",
      "Epoch 11/15\n",
      "375/375 [==============================] - 28s 75ms/step - loss: 0.0179 - acc: 0.9944 - val_loss: 0.0288 - val_acc: 0.9928\n",
      "Epoch 12/15\n",
      "375/375 [==============================] - 28s 75ms/step - loss: 0.0188 - acc: 0.9943 - val_loss: 0.0300 - val_acc: 0.9927\n",
      "Epoch 13/15\n",
      "375/375 [==============================] - 28s 74ms/step - loss: 0.0178 - acc: 0.9946 - val_loss: 0.0346 - val_acc: 0.9907\n",
      "Epoch 14/15\n",
      "375/375 [==============================] - 28s 75ms/step - loss: 0.0172 - acc: 0.9946 - val_loss: 0.0260 - val_acc: 0.9941\n",
      "Epoch 15/15\n",
      "375/375 [==============================] - 28s 76ms/step - loss: 0.0142 - acc: 0.9959 - val_loss: 0.0350 - val_acc: 0.9908\n"
     ]
    }
   ],
   "source": [
    "history = model_e.fit_generator(\n",
    "    training_generator,\n",
    "    steps_per_epoch=x_train.shape[0]//batch_size,\n",
    "    validation_data= cv_generator,\n",
    "    validation_steps=x_cv.shape[0]//batch_size,\n",
    "    epochs=epochs)"
   ]
  },
  {
   "cell_type": "code",
   "execution_count": 250,
   "metadata": {
    "colab": {
     "base_uri": "https://localhost:8080/",
     "height": 283
    },
    "colab_type": "code",
    "id": "jRODYhl527_f",
    "outputId": "07192bc2-c1aa-46bc-9e71-8a1911f28b85"
   },
   "outputs": [
    {
     "data": {
      "image/png": "[encoded data removed]",
      "text/plain": [
       "<Figure size 432x288 with 1 Axes>"
      ]
     },
     "metadata": {
      "tags": []
     },
     "output_type": "display_data"
    }
   ],
   "source": [
    "fig,ax = plt.subplots(1,1)\n",
    "ax.set_xlabel('epoch') ; ax.set_ylabel('Categorical Crossentropy Loss')\n",
    "# list of epoch numbers\n",
    "x = list(range(1,epochs+1))\n",
    "vy = history.history['val_loss']\n",
    "ty = history.history['loss']\n",
    "plt_dynamic(x, vy, ty, ax)"
   ]
  },
  {
   "cell_type": "code",
   "execution_count": 251,
   "metadata": {
    "colab": {
     "base_uri": "https://localhost:8080/",
     "height": 51
    },
    "colab_type": "code",
    "id": "M__GRmuu29_v",
    "outputId": "3ddf00e8-38b8-45d2-feda-4fde8969010f"
   },
   "outputs": [
    {
     "name": "stdout",
     "output_type": "stream",
     "text": [
      "Test score: 0.024636892917430396\n",
      "Test accuracy: 0.9937\n"
     ]
    }
   ],
   "source": [
    "model_e_score = model_e.evaluate(x_test, y_test, verbose=0)\n",
    "print('Test score:', model_e_score[0]) \n",
    "print('Test accuracy:', model_e_score[1])"
   ]
  },
  {
   "cell_type": "markdown",
   "metadata": {
    "colab_type": "text",
    "id": "Bg_K-gqH3l1P"
   },
   "source": [
    "**2) Convnet with 5*5 kernel size with droput in convolution and dense layers**"
   ]
  },
  {
   "cell_type": "code",
   "execution_count": 0,
   "metadata": {
    "colab": {},
    "colab_type": "code",
    "id": "2SnlRlCo3klK"
   },
   "outputs": [],
   "source": [
    "model_f = Sequential()\n",
    "\n",
    "model_f.add(Conv2D(64, (5,5), activation='relu', input_shape=input_shape, padding='same'))\n",
    "model_f.add(Conv2D(64, (5,5), activation='relu', padding='same'))\n",
    "model_f.add(MaxPooling2D(pool_size=(2, 2)))\n",
    "model_f.add(Dropout(0.5))\n",
    "\n",
    "model_f.add(Conv2D(128, (5,5), activation='relu', padding='same'))\n",
    "model_f.add(Conv2D(128, (5,5), activation='relu', padding='same'))\n",
    "model_f.add(MaxPooling2D(pool_size=(2,2)))\n",
    "model_f.add(Dropout(0.5))\n",
    "\n",
    "model_f.add(Flatten())\n",
    "model_f.add(Dense(256, activation='relu', kernel_initializer='he_normal'))\n",
    "model_f.add(BatchNormalization())\n",
    "model_f.add(Dropout(0.5))\n",
    "\n",
    "model_f.add(Dense(128, activation='relu', kernel_initializer='he_normal'))\n",
    "model_f.add(BatchNormalization())\n",
    "model_f.add(Dropout(0.5))\n",
    "\n",
    "model_f.add(Dense(num_classes, activation='softmax'))"
   ]
  },
  {
   "cell_type": "code",
   "execution_count": 253,
   "metadata": {
    "colab": {
     "base_uri": "https://localhost:8080/",
     "height": 697
    },
    "colab_type": "code",
    "id": "6lBcx2z63-NX",
    "outputId": "420174f1-93a2-4e2e-9435-8b4f83673aba"
   },
   "outputs": [
    {
     "name": "stdout",
     "output_type": "stream",
     "text": [
      "Model: \"sequential_25\"\n",
      "_________________________________________________________________\n",
      "Layer (type)                 Output Shape              Param #   \n",
      "=================================================================\n",
      "conv2d_105 (Conv2D)          (None, 28, 28, 64)        1664      \n",
      "_________________________________________________________________\n",
      "conv2d_106 (Conv2D)          (None, 28, 28, 64)        102464    \n",
      "_________________________________________________________________\n",
      "max_pooling2d_53 (MaxPooling (None, 14, 14, 64)        0         \n",
      "_________________________________________________________________\n",
      "dropout_39 (Dropout)         (None, 14, 14, 64)        0         \n",
      "_________________________________________________________________\n",
      "conv2d_107 (Conv2D)          (None, 14, 14, 128)       204928    \n",
      "_________________________________________________________________\n",
      "conv2d_108 (Conv2D)          (None, 14, 14, 128)       409728    \n",
      "_________________________________________________________________\n",
      "max_pooling2d_54 (MaxPooling (None, 7, 7, 128)         0         \n",
      "_________________________________________________________________\n",
      "dropout_40 (Dropout)         (None, 7, 7, 128)         0         \n",
      "_________________________________________________________________\n",
      "flatten_25 (Flatten)         (None, 6272)              0         \n",
      "_________________________________________________________________\n",
      "dense_71 (Dense)             (None, 256)               1605888   \n",
      "_________________________________________________________________\n",
      "batch_normalization_27 (Batc (None, 256)               1024      \n",
      "_________________________________________________________________\n",
      "dropout_41 (Dropout)         (None, 256)               0         \n",
      "_________________________________________________________________\n",
      "dense_72 (Dense)             (None, 128)               32896     \n",
      "_________________________________________________________________\n",
      "batch_normalization_28 (Batc (None, 128)               512       \n",
      "_________________________________________________________________\n",
      "dropout_42 (Dropout)         (None, 128)               0         \n",
      "_________________________________________________________________\n",
      "dense_73 (Dense)             (None, 10)                1290      \n",
      "=================================================================\n",
      "Total params: 2,360,394\n",
      "Trainable params: 2,359,626\n",
      "Non-trainable params: 768\n",
      "_________________________________________________________________\n"
     ]
    }
   ],
   "source": [
    "model_f.summary()"
   ]
  },
  {
   "cell_type": "code",
   "execution_count": 0,
   "metadata": {
    "colab": {},
    "colab_type": "code",
    "id": "SdfDtEsJ4EXl"
   },
   "outputs": [],
   "source": [
    "model_f.compile(loss='categorical_crossentropy',\n",
    "              optimizer=keras.optimizers.Adam(),\n",
    "              metrics=['accuracy'])"
   ]
  },
  {
   "cell_type": "code",
   "execution_count": 255,
   "metadata": {
    "colab": {
     "base_uri": "https://localhost:8080/",
     "height": 527
    },
    "colab_type": "code",
    "id": "Md2d-1c24HGF",
    "outputId": "f169446d-03c9-450c-8650-6289162a51e2"
   },
   "outputs": [
    {
     "name": "stdout",
     "output_type": "stream",
     "text": [
      "Epoch 1/15\n",
      "375/375 [==============================] - 35s 94ms/step - loss: 0.6533 - acc: 0.8046 - val_loss: 0.1165 - val_acc: 0.9642\n",
      "Epoch 2/15\n",
      "375/375 [==============================] - 30s 79ms/step - loss: 0.1303 - acc: 0.9627 - val_loss: 0.0629 - val_acc: 0.9817\n",
      "Epoch 3/15\n",
      "375/375 [==============================] - 30s 79ms/step - loss: 0.0942 - acc: 0.9735 - val_loss: 0.0509 - val_acc: 0.9859\n",
      "Epoch 4/15\n",
      "375/375 [==============================] - 30s 79ms/step - loss: 0.0767 - acc: 0.9780 - val_loss: 0.0443 - val_acc: 0.9884\n",
      "Epoch 5/15\n",
      "375/375 [==============================] - 29s 77ms/step - loss: 0.0656 - acc: 0.9805 - val_loss: 0.0397 - val_acc: 0.9898\n",
      "Epoch 6/15\n",
      "375/375 [==============================] - 29s 78ms/step - loss: 0.0615 - acc: 0.9825 - val_loss: 0.0355 - val_acc: 0.9902\n",
      "Epoch 7/15\n",
      "375/375 [==============================] - 29s 78ms/step - loss: 0.0562 - acc: 0.9835 - val_loss: 0.0368 - val_acc: 0.9896\n",
      "Epoch 8/15\n",
      "375/375 [==============================] - 29s 78ms/step - loss: 0.0543 - acc: 0.9843 - val_loss: 0.0372 - val_acc: 0.9903\n",
      "Epoch 9/15\n",
      "375/375 [==============================] - 29s 78ms/step - loss: 0.0480 - acc: 0.9860 - val_loss: 0.0258 - val_acc: 0.9929\n",
      "Epoch 10/15\n",
      "375/375 [==============================] - 29s 78ms/step - loss: 0.0477 - acc: 0.9866 - val_loss: 0.0333 - val_acc: 0.9907\n",
      "Epoch 11/15\n",
      "375/375 [==============================] - 29s 78ms/step - loss: 0.0413 - acc: 0.9879 - val_loss: 0.0262 - val_acc: 0.9924\n",
      "Epoch 12/15\n",
      "375/375 [==============================] - 29s 79ms/step - loss: 0.0397 - acc: 0.9885 - val_loss: 0.0379 - val_acc: 0.9891\n",
      "Epoch 13/15\n",
      "375/375 [==============================] - 29s 78ms/step - loss: 0.0387 - acc: 0.9887 - val_loss: 0.0323 - val_acc: 0.9908\n",
      "Epoch 14/15\n",
      "375/375 [==============================] - 29s 78ms/step - loss: 0.0369 - acc: 0.9893 - val_loss: 0.0333 - val_acc: 0.9918\n",
      "Epoch 15/15\n",
      "375/375 [==============================] - 29s 78ms/step - loss: 0.0362 - acc: 0.9895 - val_loss: 0.0222 - val_acc: 0.9938\n"
     ]
    }
   ],
   "source": [
    "history = model_f.fit_generator(\n",
    "    training_generator,\n",
    "    steps_per_epoch=x_train.shape[0]//batch_size,\n",
    "    validation_data= cv_generator,\n",
    "    validation_steps=x_cv.shape[0]//batch_size,\n",
    "    epochs=epochs)"
   ]
  },
  {
   "cell_type": "code",
   "execution_count": 256,
   "metadata": {
    "colab": {
     "base_uri": "https://localhost:8080/",
     "height": 283
    },
    "colab_type": "code",
    "id": "RqKvZdry4NAP",
    "outputId": "99e67bf3-bd3e-4294-d15a-e44087b4c1f3"
   },
   "outputs": [
    {
     "data": {
      "image/png": "[encoded data removed]",
      "text/plain": [
       "<Figure size 432x288 with 1 Axes>"
      ]
     },
     "metadata": {
      "tags": []
     },
     "output_type": "display_data"
    }
   ],
   "source": [
    "fig,ax = plt.subplots(1,1)\n",
    "ax.set_xlabel('epoch') ; ax.set_ylabel('Categorical Crossentropy Loss')\n",
    "# list of epoch numbers\n",
    "x = list(range(1,epochs+1))\n",
    "vy = history.history['val_loss']\n",
    "ty = history.history['loss']\n",
    "plt_dynamic(x, vy, ty, ax)"
   ]
  },
  {
   "cell_type": "code",
   "execution_count": 257,
   "metadata": {
    "colab": {
     "base_uri": "https://localhost:8080/",
     "height": 51
    },
    "colab_type": "code",
    "id": "O15KVPtU4JGl",
    "outputId": "f89fc7c2-5259-4ec2-fa8b-a3809f77e619"
   },
   "outputs": [
    {
     "name": "stdout",
     "output_type": "stream",
     "text": [
      "Test score: 0.017181302371390483\n",
      "Test accuracy: 0.9943\n"
     ]
    }
   ],
   "source": [
    "model_f_score = model_f.evaluate(x_test, y_test, verbose=0)\n",
    "print('Test score:', model_f_score[0]) \n",
    "print('Test accuracy:', model_f_score[1])"
   ]
  },
  {
   "cell_type": "markdown",
   "metadata": {
    "colab_type": "text",
    "id": "yNA8RasE5H9t"
   },
   "source": [
    "**3) Convnet with 5*5 kernel size with droput in dense layers**"
   ]
  },
  {
   "cell_type": "code",
   "execution_count": 0,
   "metadata": {
    "colab": {},
    "colab_type": "code",
    "id": "LHxRdDfP5Nyx"
   },
   "outputs": [],
   "source": [
    "model_g = Sequential()\n",
    "\n",
    "model_g.add(Conv2D(64, (5,5), activation='relu', input_shape=input_shape, padding='same'))\n",
    "model_g.add(Conv2D(64, (5,5), activation='relu', padding='same'))\n",
    "model_g.add(MaxPooling2D(pool_size=(2, 2)))\n",
    "\n",
    "model_g.add(Conv2D(128, (5,5), activation='relu', padding='same'))\n",
    "model_g.add(Conv2D(128, (5,5), activation='relu', padding='same'))\n",
    "model_g.add(MaxPooling2D(pool_size=(2,2)))\n",
    "\n",
    "model_g.add(Flatten())\n",
    "model_g.add(Dense(256, activation='relu', kernel_initializer='he_normal'))\n",
    "model_g.add(BatchNormalization())\n",
    "model_g.add(Dropout(0.5))\n",
    "\n",
    "model_g.add(Dense(128, activation='relu', kernel_initializer='he_normal'))\n",
    "model_g.add(BatchNormalization())\n",
    "model_g.add(Dropout(0.5))\n",
    "\n",
    "model_g.add(Dense(num_classes, activation='softmax'))"
   ]
  },
  {
   "cell_type": "code",
   "execution_count": 259,
   "metadata": {
    "colab": {
     "base_uri": "https://localhost:8080/",
     "height": 629
    },
    "colab_type": "code",
    "id": "14vTVWnW5gwK",
    "outputId": "406d435c-14cd-46a4-8112-3933611700fd"
   },
   "outputs": [
    {
     "name": "stdout",
     "output_type": "stream",
     "text": [
      "Model: \"sequential_26\"\n",
      "_________________________________________________________________\n",
      "Layer (type)                 Output Shape              Param #   \n",
      "=================================================================\n",
      "conv2d_109 (Conv2D)          (None, 28, 28, 64)        1664      \n",
      "_________________________________________________________________\n",
      "conv2d_110 (Conv2D)          (None, 28, 28, 64)        102464    \n",
      "_________________________________________________________________\n",
      "max_pooling2d_55 (MaxPooling (None, 14, 14, 64)        0         \n",
      "_________________________________________________________________\n",
      "conv2d_111 (Conv2D)          (None, 14, 14, 128)       204928    \n",
      "_________________________________________________________________\n",
      "conv2d_112 (Conv2D)          (None, 14, 14, 128)       409728    \n",
      "_________________________________________________________________\n",
      "max_pooling2d_56 (MaxPooling (None, 7, 7, 128)         0         \n",
      "_________________________________________________________________\n",
      "flatten_26 (Flatten)         (None, 6272)              0         \n",
      "_________________________________________________________________\n",
      "dense_74 (Dense)             (None, 256)               1605888   \n",
      "_________________________________________________________________\n",
      "batch_normalization_29 (Batc (None, 256)               1024      \n",
      "_________________________________________________________________\n",
      "dropout_43 (Dropout)         (None, 256)               0         \n",
      "_________________________________________________________________\n",
      "dense_75 (Dense)             (None, 128)               32896     \n",
      "_________________________________________________________________\n",
      "batch_normalization_30 (Batc (None, 128)               512       \n",
      "_________________________________________________________________\n",
      "dropout_44 (Dropout)         (None, 128)               0         \n",
      "_________________________________________________________________\n",
      "dense_76 (Dense)             (None, 10)                1290      \n",
      "=================================================================\n",
      "Total params: 2,360,394\n",
      "Trainable params: 2,359,626\n",
      "Non-trainable params: 768\n",
      "_________________________________________________________________\n"
     ]
    }
   ],
   "source": [
    "model_g.summary()"
   ]
  },
  {
   "cell_type": "code",
   "execution_count": 0,
   "metadata": {
    "colab": {},
    "colab_type": "code",
    "id": "MdOwIiFS5nSp"
   },
   "outputs": [],
   "source": [
    "model_g.compile(loss='categorical_crossentropy',\n",
    "              optimizer=keras.optimizers.Adam(),\n",
    "              metrics=['accuracy'])"
   ]
  },
  {
   "cell_type": "code",
   "execution_count": 261,
   "metadata": {
    "colab": {
     "base_uri": "https://localhost:8080/",
     "height": 527
    },
    "colab_type": "code",
    "id": "Wv_OGN6I5pr2",
    "outputId": "9db2052d-5c03-4547-8213-dbbd36f69973"
   },
   "outputs": [
    {
     "name": "stdout",
     "output_type": "stream",
     "text": [
      "Epoch 1/15\n",
      "375/375 [==============================] - 35s 93ms/step - loss: 0.3813 - acc: 0.8848 - val_loss: 0.0920 - val_acc: 0.9710\n",
      "Epoch 2/15\n",
      "375/375 [==============================] - 29s 78ms/step - loss: 0.0857 - acc: 0.9757 - val_loss: 0.0491 - val_acc: 0.9862\n",
      "Epoch 3/15\n",
      "375/375 [==============================] - 29s 78ms/step - loss: 0.0640 - acc: 0.9814 - val_loss: 0.0434 - val_acc: 0.9875\n",
      "Epoch 4/15\n",
      "375/375 [==============================] - 29s 77ms/step - loss: 0.0534 - acc: 0.9844 - val_loss: 0.0397 - val_acc: 0.9896\n",
      "Epoch 5/15\n",
      "375/375 [==============================] - 29s 77ms/step - loss: 0.0471 - acc: 0.9867 - val_loss: 0.0386 - val_acc: 0.9887\n",
      "Epoch 6/15\n",
      "375/375 [==============================] - 29s 78ms/step - loss: 0.0394 - acc: 0.9880 - val_loss: 0.0397 - val_acc: 0.9876\n",
      "Epoch 7/15\n",
      "375/375 [==============================] - 29s 78ms/step - loss: 0.0343 - acc: 0.9901 - val_loss: 0.0361 - val_acc: 0.9902\n",
      "Epoch 8/15\n",
      "375/375 [==============================] - 29s 78ms/step - loss: 0.0350 - acc: 0.9897 - val_loss: 0.0371 - val_acc: 0.9895\n",
      "Epoch 9/15\n",
      "375/375 [==============================] - 29s 78ms/step - loss: 0.0314 - acc: 0.9902 - val_loss: 0.0300 - val_acc: 0.9917\n",
      "Epoch 10/15\n",
      "375/375 [==============================] - 29s 77ms/step - loss: 0.0261 - acc: 0.9921 - val_loss: 0.0284 - val_acc: 0.9917\n",
      "Epoch 11/15\n",
      "375/375 [==============================] - 29s 78ms/step - loss: 0.0288 - acc: 0.9912 - val_loss: 0.0423 - val_acc: 0.9891\n",
      "Epoch 12/15\n",
      "375/375 [==============================] - 29s 77ms/step - loss: 0.0257 - acc: 0.9926 - val_loss: 0.0289 - val_acc: 0.9920\n",
      "Epoch 13/15\n",
      "375/375 [==============================] - 29s 77ms/step - loss: 0.0236 - acc: 0.9929 - val_loss: 0.0373 - val_acc: 0.9907\n",
      "Epoch 14/15\n",
      "375/375 [==============================] - 29s 77ms/step - loss: 0.0219 - acc: 0.9938 - val_loss: 0.0266 - val_acc: 0.9931\n",
      "Epoch 15/15\n",
      "375/375 [==============================] - 29s 77ms/step - loss: 0.0220 - acc: 0.9936 - val_loss: 0.0256 - val_acc: 0.9931\n"
     ]
    }
   ],
   "source": [
    "history = model_g.fit_generator(\n",
    "    training_generator,\n",
    "    steps_per_epoch=x_train.shape[0]//batch_size,\n",
    "    validation_data= cv_generator,\n",
    "    validation_steps=x_cv.shape[0]//batch_size,\n",
    "    epochs=epochs)"
   ]
  },
  {
   "cell_type": "code",
   "execution_count": 262,
   "metadata": {
    "colab": {
     "base_uri": "https://localhost:8080/",
     "height": 284
    },
    "colab_type": "code",
    "id": "9TU3oJxX5r6m",
    "outputId": "07ab1b33-6f6d-4d33-f11f-1fdfeba4091e"
   },
   "outputs": [
    {
     "data": {
      "image/png": "[encoded data removed]",
      "text/plain": [
       "<Figure size 432x288 with 1 Axes>"
      ]
     },
     "metadata": {
      "tags": []
     },
     "output_type": "display_data"
    }
   ],
   "source": [
    "fig,ax = plt.subplots(1,1)\n",
    "ax.set_xlabel('epoch') ; ax.set_ylabel('Categorical Crossentropy Loss')\n",
    "# list of epoch numbers\n",
    "x = list(range(1,epochs+1))\n",
    "vy = history.history['val_loss']\n",
    "ty = history.history['loss']\n",
    "plt_dynamic(x, vy, ty, ax)"
   ]
  },
  {
   "cell_type": "code",
   "execution_count": 263,
   "metadata": {
    "colab": {
     "base_uri": "https://localhost:8080/",
     "height": 51
    },
    "colab_type": "code",
    "id": "4uzzqCZO5zk2",
    "outputId": "de33679d-4115-4b50-ea78-f57842a94d49"
   },
   "outputs": [
    {
     "name": "stdout",
     "output_type": "stream",
     "text": [
      "Test score: 0.01227449049837087\n",
      "Test accuracy: 0.9967\n"
     ]
    }
   ],
   "source": [
    "model_g_score = model_g.evaluate(x_test, y_test, verbose=0)\n",
    "print('Test score:', model_g_score[0]) \n",
    "print('Test accuracy:', model_g_score[1])"
   ]
  },
  {
   "cell_type": "markdown",
   "metadata": {
    "colab_type": "text",
    "id": "Q-9kXyy16WvN"
   },
   "source": [
    "**4) Convnet with 5*5 kernel size with more no. of convolution and pooling layers**"
   ]
  },
  {
   "cell_type": "code",
   "execution_count": 0,
   "metadata": {
    "colab": {},
    "colab_type": "code",
    "id": "uUClhHPJ6kVK"
   },
   "outputs": [],
   "source": [
    "model_h = Sequential()\n",
    "\n",
    "model_h.add(Conv2D(64, (5,5), activation='relu', input_shape=input_shape, padding='same'))\n",
    "model_h.add(Conv2D(64, (5,5), activation='relu', padding='same'))\n",
    "model_h.add(MaxPooling2D(pool_size=(2, 2)))\n",
    "\n",
    "model_h.add(Conv2D(128, (5,5), activation='relu', padding='same'))\n",
    "model_h.add(Conv2D(128, (5,5), activation='relu', padding='same'))\n",
    "model_h.add(MaxPooling2D(pool_size=(2,2)))\n",
    "\n",
    "model_h.add(Conv2D(256, (5,5), activation='relu', padding='same'))\n",
    "model_h.add(Conv2D(256, (5,5), activation='relu', padding='same'))\n",
    "model_h.add(MaxPooling2D(pool_size=(2,2)))\n",
    "\n",
    "model_h.add(Flatten())\n",
    "model_h.add(Dense(256, activation='relu', kernel_initializer='he_normal'))\n",
    "model_h.add(BatchNormalization())\n",
    "model_h.add(Dropout(0.5))\n",
    "\n",
    "model_h.add(Dense(128, activation='relu', kernel_initializer='he_normal'))\n",
    "model_h.add(BatchNormalization())\n",
    "model_h.add(Dropout(0.5))\n",
    "\n",
    "model_h.add(Dense(num_classes, activation='softmax'))"
   ]
  },
  {
   "cell_type": "code",
   "execution_count": 265,
   "metadata": {
    "colab": {
     "base_uri": "https://localhost:8080/",
     "height": 731
    },
    "colab_type": "code",
    "id": "T5VCacP97AZk",
    "outputId": "9309d092-0a4e-4b9d-a9ae-b8d0da33502d"
   },
   "outputs": [
    {
     "name": "stdout",
     "output_type": "stream",
     "text": [
      "Model: \"sequential_27\"\n",
      "_________________________________________________________________\n",
      "Layer (type)                 Output Shape              Param #   \n",
      "=================================================================\n",
      "conv2d_113 (Conv2D)          (None, 28, 28, 64)        1664      \n",
      "_________________________________________________________________\n",
      "conv2d_114 (Conv2D)          (None, 28, 28, 64)        102464    \n",
      "_________________________________________________________________\n",
      "max_pooling2d_57 (MaxPooling (None, 14, 14, 64)        0         \n",
      "_________________________________________________________________\n",
      "conv2d_115 (Conv2D)          (None, 14, 14, 128)       204928    \n",
      "_________________________________________________________________\n",
      "conv2d_116 (Conv2D)          (None, 14, 14, 128)       409728    \n",
      "_________________________________________________________________\n",
      "max_pooling2d_58 (MaxPooling (None, 7, 7, 128)         0         \n",
      "_________________________________________________________________\n",
      "conv2d_117 (Conv2D)          (None, 7, 7, 256)         819456    \n",
      "_________________________________________________________________\n",
      "conv2d_118 (Conv2D)          (None, 7, 7, 256)         1638656   \n",
      "_________________________________________________________________\n",
      "max_pooling2d_59 (MaxPooling (None, 3, 3, 256)         0         \n",
      "_________________________________________________________________\n",
      "flatten_27 (Flatten)         (None, 2304)              0         \n",
      "_________________________________________________________________\n",
      "dense_77 (Dense)             (None, 256)               590080    \n",
      "_________________________________________________________________\n",
      "batch_normalization_31 (Batc (None, 256)               1024      \n",
      "_________________________________________________________________\n",
      "dropout_45 (Dropout)         (None, 256)               0         \n",
      "_________________________________________________________________\n",
      "dense_78 (Dense)             (None, 128)               32896     \n",
      "_________________________________________________________________\n",
      "batch_normalization_32 (Batc (None, 128)               512       \n",
      "_________________________________________________________________\n",
      "dropout_46 (Dropout)         (None, 128)               0         \n",
      "_________________________________________________________________\n",
      "dense_79 (Dense)             (None, 10)                1290      \n",
      "=================================================================\n",
      "Total params: 3,802,698\n",
      "Trainable params: 3,801,930\n",
      "Non-trainable params: 768\n",
      "_________________________________________________________________\n"
     ]
    }
   ],
   "source": [
    "model_h.summary()"
   ]
  },
  {
   "cell_type": "code",
   "execution_count": 0,
   "metadata": {
    "colab": {},
    "colab_type": "code",
    "id": "Oewq1p5J7D4L"
   },
   "outputs": [],
   "source": [
    "model_h.compile(loss='categorical_crossentropy',\n",
    "              optimizer=keras.optimizers.Adam(),\n",
    "              metrics=['accuracy'])"
   ]
  },
  {
   "cell_type": "code",
   "execution_count": 267,
   "metadata": {
    "colab": {
     "base_uri": "https://localhost:8080/",
     "height": 527
    },
    "colab_type": "code",
    "id": "uPZUiz0z7HPb",
    "outputId": "517c5fbc-5ffa-42b8-b1d4-618e437ddcd7"
   },
   "outputs": [
    {
     "name": "stdout",
     "output_type": "stream",
     "text": [
      "Epoch 1/15\n",
      "375/375 [==============================] - 47s 125ms/step - loss: 0.5344 - acc: 0.8352 - val_loss: 0.1142 - val_acc: 0.9663\n",
      "Epoch 2/15\n",
      "375/375 [==============================] - 40s 108ms/step - loss: 0.0869 - acc: 0.9762 - val_loss: 0.0826 - val_acc: 0.9775\n",
      "Epoch 3/15\n",
      "375/375 [==============================] - 40s 107ms/step - loss: 0.0640 - acc: 0.9822 - val_loss: 0.0603 - val_acc: 0.9852\n",
      "Epoch 4/15\n",
      "375/375 [==============================] - 40s 107ms/step - loss: 0.0490 - acc: 0.9863 - val_loss: 0.0401 - val_acc: 0.9896\n",
      "Epoch 5/15\n",
      "375/375 [==============================] - 41s 110ms/step - loss: 0.0434 - acc: 0.9875 - val_loss: 0.0472 - val_acc: 0.9856\n",
      "Epoch 6/15\n",
      "375/375 [==============================] - 41s 110ms/step - loss: 0.0413 - acc: 0.9885 - val_loss: 0.0498 - val_acc: 0.9872\n",
      "Epoch 7/15\n",
      "375/375 [==============================] - 41s 110ms/step - loss: 0.0357 - acc: 0.9901 - val_loss: 0.0537 - val_acc: 0.9864\n",
      "Epoch 8/15\n",
      "375/375 [==============================] - 41s 110ms/step - loss: 0.0342 - acc: 0.9911 - val_loss: 0.0353 - val_acc: 0.9910\n",
      "Epoch 9/15\n",
      "375/375 [==============================] - 41s 108ms/step - loss: 0.0290 - acc: 0.9921 - val_loss: 0.0356 - val_acc: 0.9917\n",
      "Epoch 10/15\n",
      "375/375 [==============================] - 40s 107ms/step - loss: 0.0275 - acc: 0.9923 - val_loss: 0.0323 - val_acc: 0.9921\n",
      "Epoch 11/15\n",
      "375/375 [==============================] - 40s 107ms/step - loss: 0.0280 - acc: 0.9924 - val_loss: 0.0406 - val_acc: 0.9897\n",
      "Epoch 12/15\n",
      "375/375 [==============================] - 40s 107ms/step - loss: 0.0260 - acc: 0.9929 - val_loss: 0.0258 - val_acc: 0.9924\n",
      "Epoch 13/15\n",
      "375/375 [==============================] - 40s 107ms/step - loss: 0.0228 - acc: 0.9934 - val_loss: 0.0233 - val_acc: 0.9939\n",
      "Epoch 14/15\n",
      "375/375 [==============================] - 40s 107ms/step - loss: 0.0227 - acc: 0.9934 - val_loss: 0.0313 - val_acc: 0.9924\n",
      "Epoch 15/15\n",
      "375/375 [==============================] - 40s 107ms/step - loss: 0.0205 - acc: 0.9942 - val_loss: 0.0403 - val_acc: 0.9894\n"
     ]
    }
   ],
   "source": [
    "history = model_h.fit_generator(\n",
    "    training_generator,\n",
    "    steps_per_epoch=x_train.shape[0]//batch_size,\n",
    "    validation_data= cv_generator,\n",
    "    validation_steps=x_cv.shape[0]//batch_size,\n",
    "    epochs=epochs)"
   ]
  },
  {
   "cell_type": "code",
   "execution_count": 268,
   "metadata": {
    "colab": {
     "base_uri": "https://localhost:8080/",
     "height": 283
    },
    "colab_type": "code",
    "id": "CTg30qA-7KmL",
    "outputId": "a4fc0976-2721-44d4-a80d-daf6890582ad"
   },
   "outputs": [
    {
     "data": {
      "image/png": "[encoded data removed]",
      "text/plain": [
       "<Figure size 432x288 with 1 Axes>"
      ]
     },
     "metadata": {
      "tags": []
     },
     "output_type": "display_data"
    }
   ],
   "source": [
    "fig,ax = plt.subplots(1,1)\n",
    "ax.set_xlabel('epoch') ; ax.set_ylabel('Categorical Crossentropy Loss')\n",
    "# list of epoch numbers\n",
    "x = list(range(1,epochs+1))\n",
    "vy = history.history['val_loss']\n",
    "ty = history.history['loss']\n",
    "plt_dynamic(x, vy, ty, ax)"
   ]
  },
  {
   "cell_type": "code",
   "execution_count": 269,
   "metadata": {
    "colab": {
     "base_uri": "https://localhost:8080/",
     "height": 51
    },
    "colab_type": "code",
    "id": "oLJcfSfo7MeL",
    "outputId": "af0c7652-5e6e-4c35-f803-15557a9868f6"
   },
   "outputs": [
    {
     "name": "stdout",
     "output_type": "stream",
     "text": [
      "Test score: 0.04808743756932236\n",
      "Test accuracy: 0.9891\n"
     ]
    }
   ],
   "source": [
    "model_h_score = model_h.evaluate(x_test, y_test, verbose=0)\n",
    "print('Test score:', model_h_score[0]) \n",
    "print('Test accuracy:', model_h_score[1])"
   ]
  },
  {
   "cell_type": "markdown",
   "metadata": {
    "colab_type": "text",
    "id": "J_NH8q9O7hDN"
   },
   "source": [
    "# Convnet with 7*7 kernel size"
   ]
  },
  {
   "cell_type": "markdown",
   "metadata": {
    "colab_type": "text",
    "id": "92OZvBkf7vIw"
   },
   "source": [
    "**1) ConveNet wit 7*7 kernel size**"
   ]
  },
  {
   "cell_type": "code",
   "execution_count": 0,
   "metadata": {
    "colab": {},
    "colab_type": "code",
    "id": "eoHS6oLK73VC"
   },
   "outputs": [],
   "source": [
    "model_i = Sequential()\n",
    "\n",
    "model_i.add(Conv2D(64, (7,7), activation='relu', input_shape=input_shape, padding='same'))\n",
    "model_i.add(Conv2D(64, (7,7), activation='relu', padding='same'))\n",
    "model_i.add(MaxPooling2D(pool_size=(2, 2)))\n",
    "\n",
    "model_i.add(Conv2D(128, (7,7), activation='relu', padding='same'))\n",
    "model_i.add(Conv2D(128, (7,7), activation='relu', padding='same'))\n",
    "model_i.add(MaxPooling2D(pool_size=(2,2)))\n",
    "\n",
    "model_i.add(Flatten())\n",
    "model_i.add(Dense(256, activation='relu', kernel_initializer='he_normal'))\n",
    "model_i.add(Dense(128, activation='relu', kernel_initializer='he_normal'))\n",
    "model_i.add(Dense(num_classes, activation='softmax'))"
   ]
  },
  {
   "cell_type": "code",
   "execution_count": 271,
   "metadata": {
    "colab": {
     "base_uri": "https://localhost:8080/",
     "height": 493
    },
    "colab_type": "code",
    "id": "FWBACtvH8Axz",
    "outputId": "0b800c86-7275-442b-d694-72e5af16e0a9"
   },
   "outputs": [
    {
     "name": "stdout",
     "output_type": "stream",
     "text": [
      "Model: \"sequential_28\"\n",
      "_________________________________________________________________\n",
      "Layer (type)                 Output Shape              Param #   \n",
      "=================================================================\n",
      "conv2d_119 (Conv2D)          (None, 28, 28, 64)        3200      \n",
      "_________________________________________________________________\n",
      "conv2d_120 (Conv2D)          (None, 28, 28, 64)        200768    \n",
      "_________________________________________________________________\n",
      "max_pooling2d_60 (MaxPooling (None, 14, 14, 64)        0         \n",
      "_________________________________________________________________\n",
      "conv2d_121 (Conv2D)          (None, 14, 14, 128)       401536    \n",
      "_________________________________________________________________\n",
      "conv2d_122 (Conv2D)          (None, 14, 14, 128)       802944    \n",
      "_________________________________________________________________\n",
      "max_pooling2d_61 (MaxPooling (None, 7, 7, 128)         0         \n",
      "_________________________________________________________________\n",
      "flatten_28 (Flatten)         (None, 6272)              0         \n",
      "_________________________________________________________________\n",
      "dense_80 (Dense)             (None, 256)               1605888   \n",
      "_________________________________________________________________\n",
      "dense_81 (Dense)             (None, 128)               32896     \n",
      "_________________________________________________________________\n",
      "dense_82 (Dense)             (None, 10)                1290      \n",
      "=================================================================\n",
      "Total params: 3,048,522\n",
      "Trainable params: 3,048,522\n",
      "Non-trainable params: 0\n",
      "_________________________________________________________________\n"
     ]
    }
   ],
   "source": [
    "model_i.summary()"
   ]
  },
  {
   "cell_type": "code",
   "execution_count": 0,
   "metadata": {
    "colab": {},
    "colab_type": "code",
    "id": "TZ4SGSEf8CNj"
   },
   "outputs": [],
   "source": [
    "model_i.compile(loss=\"categorical_crossentropy\", optimizer='adam', metrics=['accuracy'])"
   ]
  },
  {
   "cell_type": "code",
   "execution_count": 273,
   "metadata": {
    "colab": {
     "base_uri": "https://localhost:8080/",
     "height": 527
    },
    "colab_type": "code",
    "id": "gJUtohGw8NUy",
    "outputId": "dd1a499f-9a05-4b51-dba4-df567872ba9f"
   },
   "outputs": [
    {
     "name": "stdout",
     "output_type": "stream",
     "text": [
      "Epoch 1/15\n",
      "375/375 [==============================] - 44s 118ms/step - loss: 0.3096 - acc: 0.8951 - val_loss: 0.0828 - val_acc: 0.9756\n",
      "Epoch 2/15\n",
      "375/375 [==============================] - 38s 101ms/step - loss: 0.0678 - acc: 0.9797 - val_loss: 0.0595 - val_acc: 0.9822\n",
      "Epoch 3/15\n",
      "375/375 [==============================] - 38s 101ms/step - loss: 0.0517 - acc: 0.9843 - val_loss: 0.0550 - val_acc: 0.9839\n",
      "Epoch 4/15\n",
      "375/375 [==============================] - 38s 101ms/step - loss: 0.0391 - acc: 0.9881 - val_loss: 0.0514 - val_acc: 0.9853\n",
      "Epoch 5/15\n",
      "375/375 [==============================] - 38s 101ms/step - loss: 0.0370 - acc: 0.9887 - val_loss: 0.0377 - val_acc: 0.9898\n",
      "Epoch 6/15\n",
      "375/375 [==============================] - 38s 100ms/step - loss: 0.0319 - acc: 0.9897 - val_loss: 0.0479 - val_acc: 0.9864\n",
      "Epoch 7/15\n",
      "375/375 [==============================] - 38s 101ms/step - loss: 0.0292 - acc: 0.9912 - val_loss: 0.0423 - val_acc: 0.9886\n",
      "Epoch 8/15\n",
      "375/375 [==============================] - 37s 100ms/step - loss: 0.0273 - acc: 0.9919 - val_loss: 0.0445 - val_acc: 0.9888\n",
      "Epoch 9/15\n",
      "375/375 [==============================] - 38s 100ms/step - loss: 0.0283 - acc: 0.9915 - val_loss: 0.0280 - val_acc: 0.9921\n",
      "Epoch 10/15\n",
      "375/375 [==============================] - 37s 100ms/step - loss: 0.0230 - acc: 0.9933 - val_loss: 0.0354 - val_acc: 0.9906\n",
      "Epoch 11/15\n",
      "375/375 [==============================] - 37s 100ms/step - loss: 0.0239 - acc: 0.9929 - val_loss: 0.0452 - val_acc: 0.9892\n",
      "Epoch 12/15\n",
      "375/375 [==============================] - 37s 99ms/step - loss: 0.0222 - acc: 0.9931 - val_loss: 0.0331 - val_acc: 0.9919\n",
      "Epoch 13/15\n",
      "375/375 [==============================] - 38s 100ms/step - loss: 0.0205 - acc: 0.9939 - val_loss: 0.0254 - val_acc: 0.9923\n",
      "Epoch 14/15\n",
      "375/375 [==============================] - 39s 103ms/step - loss: 0.0178 - acc: 0.9946 - val_loss: 0.0293 - val_acc: 0.9922\n",
      "Epoch 15/15\n",
      "375/375 [==============================] - 39s 104ms/step - loss: 0.0181 - acc: 0.9945 - val_loss: 0.0296 - val_acc: 0.9921\n"
     ]
    }
   ],
   "source": [
    "history = model_i.fit_generator(\n",
    "    training_generator,\n",
    "    steps_per_epoch=x_train.shape[0]//batch_size,\n",
    "    validation_data= cv_generator,\n",
    "    validation_steps=x_cv.shape[0]//batch_size,\n",
    "    epochs=epochs)"
   ]
  },
  {
   "cell_type": "code",
   "execution_count": 274,
   "metadata": {
    "colab": {
     "base_uri": "https://localhost:8080/",
     "height": 283
    },
    "colab_type": "code",
    "id": "gePtniel8gQA",
    "outputId": "2d1e4237-9f1a-4dc2-cf5a-de06a4875c01"
   },
   "outputs": [
    {
     "data": {
      "image/png": "[encoded data removed]",
      "text/plain": [
       "<Figure size 432x288 with 1 Axes>"
      ]
     },
     "metadata": {
      "tags": []
     },
     "output_type": "display_data"
    }
   ],
   "source": [
    "fig,ax = plt.subplots(1,1)\n",
    "ax.set_xlabel('epoch') ; ax.set_ylabel('Categorical Crossentropy Loss')\n",
    "# list of epoch numbers\n",
    "x = list(range(1,epochs+1))\n",
    "vy = history.history['val_loss']\n",
    "ty = history.history['loss']\n",
    "plt_dynamic(x, vy, ty, ax)"
   ]
  },
  {
   "cell_type": "code",
   "execution_count": 275,
   "metadata": {
    "colab": {
     "base_uri": "https://localhost:8080/",
     "height": 51
    },
    "colab_type": "code",
    "id": "OV7LbFBF8jvg",
    "outputId": "f0b1c416-071e-4951-d485-e549f9c776f0"
   },
   "outputs": [
    {
     "name": "stdout",
     "output_type": "stream",
     "text": [
      "Test score: 0.01677764115408754\n",
      "Test accuracy: 0.9943\n"
     ]
    }
   ],
   "source": [
    "model_i_score = model_i.evaluate(x_test, y_test, verbose=0)\n",
    "print('Test score:', model_i_score[0]) \n",
    "print('Test accuracy:', model_i_score[1])"
   ]
  },
  {
   "cell_type": "markdown",
   "metadata": {
    "colab_type": "text",
    "id": "MDjm7XZb9JEa"
   },
   "source": [
    "**2) ConvNet with 7*7 kernel and dropout in both convolution and dense layers**"
   ]
  },
  {
   "cell_type": "code",
   "execution_count": 0,
   "metadata": {
    "colab": {},
    "colab_type": "code",
    "id": "Lya1-YM-9Ru3"
   },
   "outputs": [],
   "source": [
    "model_j = Sequential()\n",
    "\n",
    "model_j.add(Conv2D(64, (7,7), activation='relu', input_shape=input_shape, padding='same'))\n",
    "model_j.add(Conv2D(64, (7,7), activation='relu', padding='same'))\n",
    "model_j.add(MaxPooling2D(pool_size=(2, 2)))\n",
    "model_j.add(Dropout(0.5))\n",
    "\n",
    "model_j.add(Conv2D(128, (7,7), activation='relu', padding='same'))\n",
    "model_j.add(Conv2D(128, (7,7), activation='relu', padding='same'))\n",
    "model_j.add(MaxPooling2D(pool_size=(2,2)))\n",
    "model_j.add(Dropout(0.5))\n",
    "\n",
    "model_j.add(Flatten())\n",
    "model_j.add(Dense(256, activation='relu', kernel_initializer='he_normal'))\n",
    "model_j.add(BatchNormalization())\n",
    "model_j.add(Dropout(0.5))\n",
    "\n",
    "model_j.add(Dense(128, activation='relu', kernel_initializer='he_normal'))\n",
    "model_j.add(BatchNormalization())\n",
    "model_j.add(Dropout(0.5))\n",
    "\n",
    "model_j.add(Dense(num_classes, activation='softmax'))"
   ]
  },
  {
   "cell_type": "code",
   "execution_count": 277,
   "metadata": {
    "colab": {
     "base_uri": "https://localhost:8080/",
     "height": 697
    },
    "colab_type": "code",
    "id": "LP7NvTSz9kiB",
    "outputId": "3d242eff-403c-4dbb-d326-628ee8d44f3e"
   },
   "outputs": [
    {
     "name": "stdout",
     "output_type": "stream",
     "text": [
      "Model: \"sequential_29\"\n",
      "_________________________________________________________________\n",
      "Layer (type)                 Output Shape              Param #   \n",
      "=================================================================\n",
      "conv2d_123 (Conv2D)          (None, 28, 28, 64)        3200      \n",
      "_________________________________________________________________\n",
      "conv2d_124 (Conv2D)          (None, 28, 28, 64)        200768    \n",
      "_________________________________________________________________\n",
      "max_pooling2d_62 (MaxPooling (None, 14, 14, 64)        0         \n",
      "_________________________________________________________________\n",
      "dropout_47 (Dropout)         (None, 14, 14, 64)        0         \n",
      "_________________________________________________________________\n",
      "conv2d_125 (Conv2D)          (None, 14, 14, 128)       401536    \n",
      "_________________________________________________________________\n",
      "conv2d_126 (Conv2D)          (None, 14, 14, 128)       802944    \n",
      "_________________________________________________________________\n",
      "max_pooling2d_63 (MaxPooling (None, 7, 7, 128)         0         \n",
      "_________________________________________________________________\n",
      "dropout_48 (Dropout)         (None, 7, 7, 128)         0         \n",
      "_________________________________________________________________\n",
      "flatten_29 (Flatten)         (None, 6272)              0         \n",
      "_________________________________________________________________\n",
      "dense_83 (Dense)             (None, 256)               1605888   \n",
      "_________________________________________________________________\n",
      "batch_normalization_33 (Batc (None, 256)               1024      \n",
      "_________________________________________________________________\n",
      "dropout_49 (Dropout)         (None, 256)               0         \n",
      "_________________________________________________________________\n",
      "dense_84 (Dense)             (None, 128)               32896     \n",
      "_________________________________________________________________\n",
      "batch_normalization_34 (Batc (None, 128)               512       \n",
      "_________________________________________________________________\n",
      "dropout_50 (Dropout)         (None, 128)               0         \n",
      "_________________________________________________________________\n",
      "dense_85 (Dense)             (None, 10)                1290      \n",
      "=================================================================\n",
      "Total params: 3,050,058\n",
      "Trainable params: 3,049,290\n",
      "Non-trainable params: 768\n",
      "_________________________________________________________________\n"
     ]
    }
   ],
   "source": [
    "model_j.summary()"
   ]
  },
  {
   "cell_type": "code",
   "execution_count": 0,
   "metadata": {
    "colab": {},
    "colab_type": "code",
    "id": "Htdo9XVT9mge"
   },
   "outputs": [],
   "source": [
    "model_j.compile(loss='categorical_crossentropy', optimizer='adam', metrics=['accuracy'])"
   ]
  },
  {
   "cell_type": "code",
   "execution_count": 279,
   "metadata": {
    "colab": {
     "base_uri": "https://localhost:8080/",
     "height": 527
    },
    "colab_type": "code",
    "id": "l-nt5-6w9xCV",
    "outputId": "ebb25b18-63e4-4c2d-e249-f10e08b68ab3"
   },
   "outputs": [
    {
     "name": "stdout",
     "output_type": "stream",
     "text": [
      "Epoch 1/15\n",
      "375/375 [==============================] - 51s 135ms/step - loss: 0.6743 - acc: 0.7967 - val_loss: 0.1775 - val_acc: 0.9441\n",
      "Epoch 2/15\n",
      "375/375 [==============================] - 42s 113ms/step - loss: 0.1171 - acc: 0.9670 - val_loss: 0.0558 - val_acc: 0.9832\n",
      "Epoch 3/15\n",
      "375/375 [==============================] - 43s 114ms/step - loss: 0.0818 - acc: 0.9772 - val_loss: 0.0441 - val_acc: 0.9860\n",
      "Epoch 4/15\n",
      "375/375 [==============================] - 43s 114ms/step - loss: 0.0680 - acc: 0.9809 - val_loss: 0.0577 - val_acc: 0.9837\n",
      "Epoch 5/15\n",
      "375/375 [==============================] - 42s 113ms/step - loss: 0.0600 - acc: 0.9833 - val_loss: 0.0302 - val_acc: 0.9915\n",
      "Epoch 6/15\n",
      "375/375 [==============================] - 42s 113ms/step - loss: 0.0557 - acc: 0.9839 - val_loss: 0.0406 - val_acc: 0.9892\n",
      "Epoch 7/15\n",
      "375/375 [==============================] - 43s 114ms/step - loss: 0.0454 - acc: 0.9871 - val_loss: 0.0303 - val_acc: 0.9913\n",
      "Epoch 8/15\n",
      "375/375 [==============================] - 42s 113ms/step - loss: 0.0455 - acc: 0.9867 - val_loss: 0.0313 - val_acc: 0.9917\n",
      "Epoch 9/15\n",
      "375/375 [==============================] - 42s 113ms/step - loss: 0.0406 - acc: 0.9881 - val_loss: 0.0379 - val_acc: 0.9893\n",
      "Epoch 10/15\n",
      "375/375 [==============================] - 42s 112ms/step - loss: 0.0391 - acc: 0.9893 - val_loss: 0.0268 - val_acc: 0.9927\n",
      "Epoch 11/15\n",
      "375/375 [==============================] - 42s 113ms/step - loss: 0.0375 - acc: 0.9893 - val_loss: 0.0305 - val_acc: 0.9917\n",
      "Epoch 12/15\n",
      "375/375 [==============================] - 42s 113ms/step - loss: 0.0359 - acc: 0.9904 - val_loss: 0.0296 - val_acc: 0.9921\n",
      "Epoch 13/15\n",
      "375/375 [==============================] - 42s 113ms/step - loss: 0.0327 - acc: 0.9910 - val_loss: 0.0330 - val_acc: 0.9910\n",
      "Epoch 14/15\n",
      "375/375 [==============================] - 43s 114ms/step - loss: 0.0304 - acc: 0.9911 - val_loss: 0.0287 - val_acc: 0.9930\n",
      "Epoch 15/15\n",
      "375/375 [==============================] - 42s 112ms/step - loss: 0.0301 - acc: 0.9913 - val_loss: 0.0342 - val_acc: 0.9928\n"
     ]
    }
   ],
   "source": [
    "history = model_j.fit_generator(\n",
    "    training_generator,\n",
    "    steps_per_epoch=x_train.shape[0]//batch_size,\n",
    "    validation_data= cv_generator,\n",
    "    validation_steps=x_cv.shape[0]//batch_size,\n",
    "    epochs=epochs)"
   ]
  },
  {
   "cell_type": "code",
   "execution_count": 280,
   "metadata": {
    "colab": {
     "base_uri": "https://localhost:8080/",
     "height": 283
    },
    "colab_type": "code",
    "id": "xplmkI-f90ck",
    "outputId": "25fe09f1-4142-44fd-b30c-0c1b50d422c5"
   },
   "outputs": [
    {
     "data": {
      "image/png": "[encoded data removed]",
      "text/plain": [
       "<Figure size 432x288 with 1 Axes>"
      ]
     },
     "metadata": {
      "tags": []
     },
     "output_type": "display_data"
    }
   ],
   "source": [
    "fig,ax = plt.subplots(1,1)\n",
    "ax.set_xlabel('epoch') ; ax.set_ylabel('Categorical Crossentropy Loss')\n",
    "# list of epoch numbers\n",
    "x = list(range(1,epochs+1))\n",
    "vy = history.history['val_loss']\n",
    "ty = history.history['loss']\n",
    "plt_dynamic(x, vy, ty, ax)"
   ]
  },
  {
   "cell_type": "code",
   "execution_count": 281,
   "metadata": {
    "colab": {
     "base_uri": "https://localhost:8080/",
     "height": 51
    },
    "colab_type": "code",
    "id": "8-886iku92NF",
    "outputId": "021b9609-4fa1-4a84-e001-9b063732ab3c"
   },
   "outputs": [
    {
     "name": "stdout",
     "output_type": "stream",
     "text": [
      "Test score: 0.025811030476922316\n",
      "Test accuracy: 0.9933\n"
     ]
    }
   ],
   "source": [
    "model_j_score = model_j.evaluate(x_test, y_test, verbose=0)\n",
    "print('Test score:', model_j_score[0]) \n",
    "print('Test accuracy:', model_j_score[1])"
   ]
  },
  {
   "cell_type": "markdown",
   "metadata": {
    "colab_type": "text",
    "id": "j5QXi8fd-K-b"
   },
   "source": [
    "**3) ConvNet with 7*7 kernel size and dropout in dense layers**"
   ]
  },
  {
   "cell_type": "code",
   "execution_count": 0,
   "metadata": {
    "colab": {},
    "colab_type": "code",
    "id": "sWMy-W0m-W7X"
   },
   "outputs": [],
   "source": [
    "model_k = Sequential()\n",
    "\n",
    "model_k.add(Conv2D(64, (7,7), activation='relu', input_shape=input_shape, padding='same'))\n",
    "model_k.add(Conv2D(64, (7,7), activation='relu', padding='same'))\n",
    "model_k.add(MaxPooling2D(pool_size=(2, 2)))\n",
    "\n",
    "model_k.add(Conv2D(128, (7,7), activation='relu', padding='same'))\n",
    "model_k.add(Conv2D(128, (7,7), activation='relu', padding='same'))\n",
    "model_k.add(MaxPooling2D(pool_size=(2,2)))\n",
    "\n",
    "model_k.add(Flatten())\n",
    "model_k.add(Dense(256, activation='relu', kernel_initializer='he_normal'))\n",
    "model_k.add(BatchNormalization())\n",
    "model_k.add(Dropout(0.5))\n",
    "\n",
    "model_k.add(Dense(128, activation='relu', kernel_initializer='he_normal'))\n",
    "model_k.add(BatchNormalization())\n",
    "model_k.add(Dropout(0.5))\n",
    "\n",
    "model_k.add(Dense(num_classes, activation='softmax'))"
   ]
  },
  {
   "cell_type": "code",
   "execution_count": 283,
   "metadata": {
    "colab": {
     "base_uri": "https://localhost:8080/",
     "height": 629
    },
    "colab_type": "code",
    "id": "ONg4Z6nf-g1U",
    "outputId": "d3e79146-69c9-485a-f1e5-87c949ff1bdc"
   },
   "outputs": [
    {
     "name": "stdout",
     "output_type": "stream",
     "text": [
      "Model: \"sequential_30\"\n",
      "_________________________________________________________________\n",
      "Layer (type)                 Output Shape              Param #   \n",
      "=================================================================\n",
      "conv2d_127 (Conv2D)          (None, 28, 28, 64)        3200      \n",
      "_________________________________________________________________\n",
      "conv2d_128 (Conv2D)          (None, 28, 28, 64)        200768    \n",
      "_________________________________________________________________\n",
      "max_pooling2d_64 (MaxPooling (None, 14, 14, 64)        0         \n",
      "_________________________________________________________________\n",
      "conv2d_129 (Conv2D)          (None, 14, 14, 128)       401536    \n",
      "_________________________________________________________________\n",
      "conv2d_130 (Conv2D)          (None, 14, 14, 128)       802944    \n",
      "_________________________________________________________________\n",
      "max_pooling2d_65 (MaxPooling (None, 7, 7, 128)         0         \n",
      "_________________________________________________________________\n",
      "flatten_30 (Flatten)         (None, 6272)              0         \n",
      "_________________________________________________________________\n",
      "dense_86 (Dense)             (None, 256)               1605888   \n",
      "_________________________________________________________________\n",
      "batch_normalization_35 (Batc (None, 256)               1024      \n",
      "_________________________________________________________________\n",
      "dropout_51 (Dropout)         (None, 256)               0         \n",
      "_________________________________________________________________\n",
      "dense_87 (Dense)             (None, 128)               32896     \n",
      "_________________________________________________________________\n",
      "batch_normalization_36 (Batc (None, 128)               512       \n",
      "_________________________________________________________________\n",
      "dropout_52 (Dropout)         (None, 128)               0         \n",
      "_________________________________________________________________\n",
      "dense_88 (Dense)             (None, 10)                1290      \n",
      "=================================================================\n",
      "Total params: 3,050,058\n",
      "Trainable params: 3,049,290\n",
      "Non-trainable params: 768\n",
      "_________________________________________________________________\n"
     ]
    }
   ],
   "source": [
    "model_k.summary()"
   ]
  },
  {
   "cell_type": "code",
   "execution_count": 0,
   "metadata": {
    "colab": {},
    "colab_type": "code",
    "id": "u2Qlm2Rg-lO0"
   },
   "outputs": [],
   "source": [
    "model_k.compile(loss='categorical_crossentropy', optimizer='adam', metrics=['accuracy'])"
   ]
  },
  {
   "cell_type": "code",
   "execution_count": 285,
   "metadata": {
    "colab": {
     "base_uri": "https://localhost:8080/",
     "height": 527
    },
    "colab_type": "code",
    "id": "z37p3Z_3-4VJ",
    "outputId": "1a8fb94d-7bf6-4680-9454-de6c63062f0e"
   },
   "outputs": [
    {
     "name": "stdout",
     "output_type": "stream",
     "text": [
      "Epoch 1/15\n",
      "375/375 [==============================] - 48s 129ms/step - loss: 0.4669 - acc: 0.8596 - val_loss: 0.0589 - val_acc: 0.9825\n",
      "Epoch 2/15\n",
      "375/375 [==============================] - 41s 109ms/step - loss: 0.0906 - acc: 0.9747 - val_loss: 0.1301 - val_acc: 0.9632\n",
      "Epoch 3/15\n",
      "375/375 [==============================] - 41s 109ms/step - loss: 0.0639 - acc: 0.9823 - val_loss: 0.0480 - val_acc: 0.9860\n",
      "Epoch 4/15\n",
      "375/375 [==============================] - 41s 109ms/step - loss: 0.0525 - acc: 0.9840 - val_loss: 0.0512 - val_acc: 0.9858\n",
      "Epoch 5/15\n",
      "375/375 [==============================] - 41s 110ms/step - loss: 0.0448 - acc: 0.9874 - val_loss: 0.0377 - val_acc: 0.9890\n",
      "Epoch 6/15\n",
      "375/375 [==============================] - 41s 110ms/step - loss: 0.0410 - acc: 0.9877 - val_loss: 0.0709 - val_acc: 0.9822\n",
      "Epoch 7/15\n",
      "375/375 [==============================] - 41s 110ms/step - loss: 0.0350 - acc: 0.9901 - val_loss: 0.0327 - val_acc: 0.9912\n",
      "Epoch 8/15\n",
      "375/375 [==============================] - 41s 110ms/step - loss: 0.0336 - acc: 0.9909 - val_loss: 0.0317 - val_acc: 0.9917\n",
      "Epoch 9/15\n",
      "375/375 [==============================] - 41s 110ms/step - loss: 0.0309 - acc: 0.9910 - val_loss: 0.0334 - val_acc: 0.9915\n",
      "Epoch 10/15\n",
      "375/375 [==============================] - 41s 109ms/step - loss: 0.0290 - acc: 0.9914 - val_loss: 0.0332 - val_acc: 0.9912\n",
      "Epoch 11/15\n",
      "375/375 [==============================] - 40s 107ms/step - loss: 0.0263 - acc: 0.9925 - val_loss: 0.0295 - val_acc: 0.9928\n",
      "Epoch 12/15\n",
      "375/375 [==============================] - 40s 107ms/step - loss: 0.0254 - acc: 0.9925 - val_loss: 0.0365 - val_acc: 0.9910\n",
      "Epoch 13/15\n",
      "375/375 [==============================] - 40s 107ms/step - loss: 0.0234 - acc: 0.9934 - val_loss: 0.0280 - val_acc: 0.9939\n",
      "Epoch 14/15\n",
      "375/375 [==============================] - 40s 107ms/step - loss: 0.0208 - acc: 0.9940 - val_loss: 0.0377 - val_acc: 0.9904\n",
      "Epoch 15/15\n",
      "375/375 [==============================] - 40s 107ms/step - loss: 0.0215 - acc: 0.9941 - val_loss: 0.0254 - val_acc: 0.9936\n"
     ]
    }
   ],
   "source": [
    "history = model_k.fit_generator(\n",
    "    training_generator,\n",
    "    steps_per_epoch=x_train.shape[0]//batch_size,\n",
    "    validation_data= cv_generator,\n",
    "    validation_steps=x_cv.shape[0]//batch_size,\n",
    "    epochs=epochs)"
   ]
  },
  {
   "cell_type": "code",
   "execution_count": 286,
   "metadata": {
    "colab": {
     "base_uri": "https://localhost:8080/",
     "height": 283
    },
    "colab_type": "code",
    "id": "YIiDKldU_Bor",
    "outputId": "4f99224d-2323-41a6-81a5-fcdef6515c71"
   },
   "outputs": [
    {
     "data": {
      "image/png": "[encoded data removed]",
      "text/plain": [
       "<Figure size 432x288 with 1 Axes>"
      ]
     },
     "metadata": {
      "tags": []
     },
     "output_type": "display_data"
    }
   ],
   "source": [
    "fig,ax = plt.subplots(1,1)\n",
    "ax.set_xlabel('epoch') ; ax.set_ylabel('Categorical Crossentropy Loss')\n",
    "# list of epoch numbers\n",
    "x = list(range(1,epochs+1))\n",
    "vy = history.history['val_loss']\n",
    "ty = history.history['loss']\n",
    "plt_dynamic(x, vy, ty, ax)"
   ]
  },
  {
   "cell_type": "code",
   "execution_count": 287,
   "metadata": {
    "colab": {
     "base_uri": "https://localhost:8080/",
     "height": 51
    },
    "colab_type": "code",
    "id": "ohX42gvQ_GlL",
    "outputId": "a7d187b5-4b5d-4077-e093-cd4c55ba6d21"
   },
   "outputs": [
    {
     "name": "stdout",
     "output_type": "stream",
     "text": [
      "Test score: 0.016375290652771945\n",
      "Test accuracy: 0.9955\n"
     ]
    }
   ],
   "source": [
    "model_k_score = model_k.evaluate(x_test, y_test, verbose=0)\n",
    "print('Test score:', model_k_score[0]) \n",
    "print('Test accuracy:', model_k_score[1])"
   ]
  },
  {
   "cell_type": "markdown",
   "metadata": {
    "colab_type": "text",
    "id": "Gyb9ZFN1_asa"
   },
   "source": [
    "**4) ConvNet with 7*7 kernel, with more no. of convolution and max-pooling layers**"
   ]
  },
  {
   "cell_type": "code",
   "execution_count": 0,
   "metadata": {
    "colab": {},
    "colab_type": "code",
    "id": "ui4Qj18d_ktY"
   },
   "outputs": [],
   "source": [
    "model_l = Sequential()\n",
    "\n",
    "model_l.add(Conv2D(64, (7,7), activation='relu', input_shape=input_shape, padding='same'))\n",
    "model_l.add(Conv2D(64, (7,7), activation='relu', padding='same'))\n",
    "model_l.add(MaxPooling2D(pool_size=(2, 2)))\n",
    "\n",
    "model_l.add(Conv2D(128, (7,7), activation='relu', padding='same'))\n",
    "model_l.add(Conv2D(128, (7,7), activation='relu', padding='same'))\n",
    "model_l.add(MaxPooling2D(pool_size=(2,2)))\n",
    "\n",
    "model_l.add(Conv2D(256, (7,7), activation='relu', padding='same'))\n",
    "model_l.add(Conv2D(256, (7,7), activation='relu', padding='same'))\n",
    "model_l.add(MaxPooling2D(pool_size=(2,2)))\n",
    "\n",
    "model_l.add(Flatten())\n",
    "model_l.add(Dense(256, activation='relu', kernel_initializer='he_normal'))\n",
    "model_l.add(BatchNormalization())\n",
    "model_l.add(Dropout(0.5))\n",
    "\n",
    "model_l.add(Dense(128, activation='relu', kernel_initializer='he_normal'))\n",
    "model_l.add(BatchNormalization())\n",
    "model_l.add(Dropout(0.5))\n",
    "\n",
    "model_l.add(Dense(num_classes, activation='softmax'))"
   ]
  },
  {
   "cell_type": "code",
   "execution_count": 289,
   "metadata": {
    "colab": {
     "base_uri": "https://localhost:8080/",
     "height": 731
    },
    "colab_type": "code",
    "id": "CkJF_51B_1vm",
    "outputId": "fb39d5d4-1e6f-4473-8b3f-834ec3a6b73f"
   },
   "outputs": [
    {
     "name": "stdout",
     "output_type": "stream",
     "text": [
      "Model: \"sequential_31\"\n",
      "_________________________________________________________________\n",
      "Layer (type)                 Output Shape              Param #   \n",
      "=================================================================\n",
      "conv2d_131 (Conv2D)          (None, 28, 28, 64)        3200      \n",
      "_________________________________________________________________\n",
      "conv2d_132 (Conv2D)          (None, 28, 28, 64)        200768    \n",
      "_________________________________________________________________\n",
      "max_pooling2d_66 (MaxPooling (None, 14, 14, 64)        0         \n",
      "_________________________________________________________________\n",
      "conv2d_133 (Conv2D)          (None, 14, 14, 128)       401536    \n",
      "_________________________________________________________________\n",
      "conv2d_134 (Conv2D)          (None, 14, 14, 128)       802944    \n",
      "_________________________________________________________________\n",
      "max_pooling2d_67 (MaxPooling (None, 7, 7, 128)         0         \n",
      "_________________________________________________________________\n",
      "conv2d_135 (Conv2D)          (None, 7, 7, 256)         1605888   \n",
      "_________________________________________________________________\n",
      "conv2d_136 (Conv2D)          (None, 7, 7, 256)         3211520   \n",
      "_________________________________________________________________\n",
      "max_pooling2d_68 (MaxPooling (None, 3, 3, 256)         0         \n",
      "_________________________________________________________________\n",
      "flatten_31 (Flatten)         (None, 2304)              0         \n",
      "_________________________________________________________________\n",
      "dense_89 (Dense)             (None, 256)               590080    \n",
      "_________________________________________________________________\n",
      "batch_normalization_37 (Batc (None, 256)               1024      \n",
      "_________________________________________________________________\n",
      "dropout_53 (Dropout)         (None, 256)               0         \n",
      "_________________________________________________________________\n",
      "dense_90 (Dense)             (None, 128)               32896     \n",
      "_________________________________________________________________\n",
      "batch_normalization_38 (Batc (None, 128)               512       \n",
      "_________________________________________________________________\n",
      "dropout_54 (Dropout)         (None, 128)               0         \n",
      "_________________________________________________________________\n",
      "dense_91 (Dense)             (None, 10)                1290      \n",
      "=================================================================\n",
      "Total params: 6,851,658\n",
      "Trainable params: 6,850,890\n",
      "Non-trainable params: 768\n",
      "_________________________________________________________________\n"
     ]
    }
   ],
   "source": [
    "model_l.summary()"
   ]
  },
  {
   "cell_type": "code",
   "execution_count": 0,
   "metadata": {
    "colab": {},
    "colab_type": "code",
    "id": "zZOQxVtV_3DE"
   },
   "outputs": [],
   "source": [
    "model_l.compile(loss='categorical_crossentropy', optimizer='adam', metrics=['accuracy'])"
   ]
  },
  {
   "cell_type": "code",
   "execution_count": 291,
   "metadata": {
    "colab": {
     "base_uri": "https://localhost:8080/",
     "height": 527
    },
    "colab_type": "code",
    "id": "_t2TvOefAFHS",
    "outputId": "0ff3774f-5712-42df-8b6a-5501c04e50ff"
   },
   "outputs": [
    {
     "name": "stdout",
     "output_type": "stream",
     "text": [
      "Epoch 1/15\n",
      "375/375 [==============================] - 64s 172ms/step - loss: 0.9001 - acc: 0.7134 - val_loss: 1.4909 - val_acc: 0.5319\n",
      "Epoch 2/15\n",
      "375/375 [==============================] - 56s 150ms/step - loss: 0.1472 - acc: 0.9582 - val_loss: 0.1102 - val_acc: 0.9694\n",
      "Epoch 3/15\n",
      "375/375 [==============================] - 56s 151ms/step - loss: 0.0902 - acc: 0.9755 - val_loss: 0.0682 - val_acc: 0.9816\n",
      "Epoch 4/15\n",
      "375/375 [==============================] - 56s 150ms/step - loss: 0.0680 - acc: 0.9811 - val_loss: 0.1403 - val_acc: 0.9602\n",
      "Epoch 5/15\n",
      "375/375 [==============================] - 57s 151ms/step - loss: 0.0542 - acc: 0.9848 - val_loss: 0.0624 - val_acc: 0.9826\n",
      "Epoch 6/15\n",
      "375/375 [==============================] - 56s 150ms/step - loss: 0.0513 - acc: 0.9860 - val_loss: 0.0521 - val_acc: 0.9874\n",
      "Epoch 7/15\n",
      "375/375 [==============================] - 56s 149ms/step - loss: 0.0445 - acc: 0.9879 - val_loss: 0.0453 - val_acc: 0.9895\n",
      "Epoch 8/15\n",
      "375/375 [==============================] - 56s 149ms/step - loss: 0.0404 - acc: 0.9885 - val_loss: 0.0433 - val_acc: 0.9879\n",
      "Epoch 9/15\n",
      "375/375 [==============================] - 56s 149ms/step - loss: 0.0362 - acc: 0.9896 - val_loss: 0.0589 - val_acc: 0.9842\n",
      "Epoch 10/15\n",
      "375/375 [==============================] - 56s 149ms/step - loss: 0.0347 - acc: 0.9905 - val_loss: 0.0343 - val_acc: 0.9915\n",
      "Epoch 11/15\n",
      "375/375 [==============================] - 56s 149ms/step - loss: 0.0282 - acc: 0.9916 - val_loss: 0.0427 - val_acc: 0.9890\n",
      "Epoch 12/15\n",
      "375/375 [==============================] - 56s 149ms/step - loss: 0.0299 - acc: 0.9920 - val_loss: 0.0601 - val_acc: 0.9868\n",
      "Epoch 13/15\n",
      "375/375 [==============================] - 56s 149ms/step - loss: 0.0304 - acc: 0.9916 - val_loss: 0.0362 - val_acc: 0.9908\n",
      "Epoch 14/15\n",
      "375/375 [==============================] - 56s 150ms/step - loss: 0.0246 - acc: 0.9933 - val_loss: 0.0330 - val_acc: 0.9916\n",
      "Epoch 15/15\n",
      "375/375 [==============================] - 56s 150ms/step - loss: 0.0240 - acc: 0.9933 - val_loss: 0.0479 - val_acc: 0.9890\n"
     ]
    }
   ],
   "source": [
    "history = model_l.fit_generator(\n",
    "    training_generator,\n",
    "    steps_per_epoch=x_train.shape[0]//batch_size,\n",
    "    validation_data= cv_generator,\n",
    "    validation_steps=x_cv.shape[0]//batch_size,\n",
    "    epochs=epochs)"
   ]
  },
  {
   "cell_type": "code",
   "execution_count": 292,
   "metadata": {
    "colab": {
     "base_uri": "https://localhost:8080/",
     "height": 283
    },
    "colab_type": "code",
    "id": "pgC5sFV5AIPR",
    "outputId": "62264b07-c99a-45c9-eb82-4775b26cd365"
   },
   "outputs": [
    {
     "data": {
      "image/png": "[encoded data removed]",
      "text/plain": [
       "<Figure size 432x288 with 1 Axes>"
      ]
     },
     "metadata": {
      "tags": []
     },
     "output_type": "display_data"
    }
   ],
   "source": [
    "fig,ax = plt.subplots(1,1)\n",
    "ax.set_xlabel('epoch') ; ax.set_ylabel('Categorical Crossentropy Loss')\n",
    "# list of epoch numbers\n",
    "x = list(range(1,epochs+1))\n",
    "vy = history.history['val_loss']\n",
    "ty = history.history['loss']\n",
    "plt_dynamic(x, vy, ty, ax)"
   ]
  },
  {
   "cell_type": "code",
   "execution_count": 293,
   "metadata": {
    "colab": {
     "base_uri": "https://localhost:8080/",
     "height": 51
    },
    "colab_type": "code",
    "id": "oEGx8wnCALd-",
    "outputId": "7168048a-f6eb-4526-9a30-6fbabae62af0"
   },
   "outputs": [
    {
     "name": "stdout",
     "output_type": "stream",
     "text": [
      "Test score: 0.04445961678600434\n",
      "Test accuracy: 0.9886\n"
     ]
    }
   ],
   "source": [
    "model_l_score = model_l.evaluate(x_test, y_test, verbose=0)\n",
    "print('Test score:', model_l_score[0]) \n",
    "print('Test accuracy:', model_l_score[1])"
   ]
  },
  {
   "cell_type": "markdown",
   "metadata": {
    "colab_type": "text",
    "id": "Cty7TChn2Q5g"
   },
   "source": [
    "# **Summary**"
   ]
  },
  {
   "cell_type": "code",
   "execution_count": 294,
   "metadata": {
    "colab": {
     "base_uri": "https://localhost:8080/",
     "height": 289
    },
    "colab_type": "code",
    "id": "8XTscFaN2L03",
    "outputId": "7dc406b2-3bb5-49dd-a0e4-35c0a6089c08"
   },
   "outputs": [
    {
     "name": "stdout",
     "output_type": "stream",
     "text": [
      "+------------+--------+-------------------+-------------+----------+\n",
      "| kerne Size | #C-C-P | DR in convolution | DR in Dense | Accuracy |\n",
      "+------------+--------+-------------------+-------------+----------+\n",
      "|    3*3     |   2    |         No        |      No     |  0.9936  |\n",
      "|    3*3     |   2    |        Yes        |     Yes     |  0.9951  |\n",
      "|    3*3     |   2    |         No        |     Yes     |  0.9948  |\n",
      "|    3*3     |   3    |         No        |     Yes     |  0.9935  |\n",
      "|    5*5     |   2    |         No        |      No     |  0.9937  |\n",
      "|    5*5     |   2    |        Yes        |     Yes     |  0.9943  |\n",
      "|    5*5     |   2    |         No        |     Yes     |  0.9967  |\n",
      "|    5*5     |   3    |         No        |     Yes     |  0.9891  |\n",
      "|    7*7     |   2    |         No        |      No     |  0.9943  |\n",
      "|    7*7     |   2    |        Yes        |     Yes     |  0.9933  |\n",
      "|    7*7     |   2    |         No        |     Yes     |  0.9955  |\n",
      "|    7*7     |   3    |         No        |     Yes     |  0.9886  |\n",
      "+------------+--------+-------------------+-------------+----------+\n"
     ]
    }
   ],
   "source": [
    "from prettytable import PrettyTable\n",
    "\n",
    "table = PrettyTable();\n",
    "\n",
    "table.field_names = ['kerne Size','#C-C-P', 'DR in convolution', 'DR in Dense', 'Accuracy'];\n",
    "table.add_row(['3*3', '2', 'No', 'No', model_a_score[1]])\n",
    "table.add_row(['3*3', '2', 'Yes', 'Yes', model_b_score[1]])\n",
    "table.add_row(['3*3', '2', 'No', 'Yes', model_c_score[1]])\n",
    "table.add_row(['3*3', '3', 'No', 'Yes', model_d_score[1]])\n",
    "\n",
    "table.add_row(['5*5', '2', 'No', 'No', model_e_score[1]])\n",
    "table.add_row(['5*5', '2', 'Yes', 'Yes', model_f_score[1]])\n",
    "table.add_row(['5*5', '2', 'No', 'Yes', model_g_score[1]])\n",
    "table.add_row(['5*5', '3', 'No', 'Yes', model_h_score[1]])\n",
    "\n",
    "table.add_row(['7*7', '2', 'No', 'No', model_i_score[1]])\n",
    "table.add_row(['7*7', '2', 'Yes', 'Yes', model_j_score[1]])\n",
    "table.add_row(['7*7', '2', 'No', 'Yes', model_k_score[1]])\n",
    "table.add_row(['7*7', '3', 'No', 'Yes', model_l_score[1]])\n",
    "\n",
    "print(table)"
   ]
  },
  {
   "cell_type": "markdown",
   "metadata": {
    "colab_type": "text",
    "id": "YPZD3lTJdyEJ"
   },
   "source": [
    "# **Observations**\n",
    "\n",
    "\n",
    "1.   All the architectures are inspired from VGG, hence using C-C-P kind of layers\n",
    "2.   Architectures having 2, C-C-P layers are performing better than one having 3 layers.\n",
    "3. Adding Dropout is giving better results then architecture without dropout\n",
    "4. Architecture that have dropout only in dense layer are performing btter than architectures that have dropout in both convolution and dense layers.\n",
    "5. Architecture having kernels of size 5 * 5 is performing best as compare to architectures having kernel size 3 * 3 or 7 * 7\n",
    "6. Architecture with kernel size 5 * 5, 2 C-C-P layers, dropout only in dense layers giving the best accuracy among all other architectures.\n",
    "\n",
    "\n",
    "\n"
   ]
  },
  {
   "cell_type": "code",
   "execution_count": 0,
   "metadata": {
    "colab": {},
    "colab_type": "code",
    "id": "Fd73cOwvdvW6"
   },
   "outputs": [],
   "source": []
  }
 ],
 "metadata": {
  "accelerator": "GPU",
  "colab": {
   "name": "Untitled2.ipynb",
   "provenance": [],
   "version": "0.3.2"
  },
  "kernelspec": {
   "display_name": "Python 3",
   "language": "python",
   "name": "python3"
  },
  "language_info": {
   "codemirror_mode": {
    "name": "ipython",
    "version": 3
   },
   "file_extension": ".py",
   "mimetype": "text/x-python",
   "name": "python",
   "nbconvert_exporter": "python",
   "pygments_lexer": "ipython3",
   "version": "3.6.5"
  }
 },
 "nbformat": 4,
 "nbformat_minor": 1
}
